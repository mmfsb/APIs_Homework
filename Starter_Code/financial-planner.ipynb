{
 "cells": [
  {
   "cell_type": "markdown",
   "source": [
    "# Unit 5 - Financial Planning"
   ],
   "metadata": {}
  },
  {
   "cell_type": "code",
   "execution_count": 1,
   "source": [
    "# Initial imports\n",
    "import os\n",
    "import requests\n",
    "import pandas as pd\n",
    "from dotenv import load_dotenv\n",
    "import alpaca_trade_api as tradeapi\n",
    "from MCForecastTools import MCSimulation\n",
    "import json\n",
    "\n",
    "%matplotlib inline"
   ],
   "outputs": [],
   "metadata": {}
  },
  {
   "cell_type": "code",
   "execution_count": 2,
   "source": [
    "# Load .env enviroment variables\n",
    "load_dotenv()"
   ],
   "outputs": [
    {
     "output_type": "execute_result",
     "data": {
      "text/plain": [
       "True"
      ]
     },
     "metadata": {},
     "execution_count": 2
    }
   ],
   "metadata": {}
  },
  {
   "cell_type": "markdown",
   "source": [
    "## Part 1 - Personal Finance Planner"
   ],
   "metadata": {}
  },
  {
   "cell_type": "markdown",
   "source": [
    "### Collect Crypto Prices Using the `requests` Library"
   ],
   "metadata": {}
  },
  {
   "cell_type": "code",
   "execution_count": 3,
   "source": [
    "# Set current amount of crypto assets\n",
    "my_btc = 1.2\n",
    "my_eth = 5.3"
   ],
   "outputs": [],
   "metadata": {}
  },
  {
   "cell_type": "code",
   "execution_count": 4,
   "source": [
    "# Crypto API URLs\n",
    "btc_url = \"https://api.alternative.me/v2/ticker/Bitcoin/?convert=CAD\"\n",
    "eth_url = \"https://api.alternative.me/v2/ticker/Ethereum/?convert=CAD\""
   ],
   "outputs": [],
   "metadata": {}
  },
  {
   "cell_type": "code",
   "execution_count": 5,
   "source": [
    "# Executing get requests for btc and format to json\n",
    "btc_response = requests.get(btc_url).json()\n",
    "\n",
    "# Executing get requests for eth and format to json\n",
    "eth_response = requests.get(eth_url).json()"
   ],
   "outputs": [],
   "metadata": {}
  },
  {
   "cell_type": "code",
   "execution_count": 6,
   "source": [
    "print(json.dumps(btc_response, indent=4))"
   ],
   "outputs": [
    {
     "output_type": "stream",
     "name": "stdout",
     "text": [
      "{\n",
      "    \"data\": {\n",
      "        \"1\": {\n",
      "            \"id\": 1,\n",
      "            \"name\": \"Bitcoin\",\n",
      "            \"symbol\": \"BTC\",\n",
      "            \"website_slug\": \"bitcoin\",\n",
      "            \"rank\": 1,\n",
      "            \"circulating_supply\": 18831575,\n",
      "            \"total_supply\": 18831575,\n",
      "            \"max_supply\": 21000000,\n",
      "            \"quotes\": {\n",
      "                \"USD\": {\n",
      "                    \"price\": 47543.0,\n",
      "                    \"volume_24h\": 40776778193,\n",
      "                    \"market_cap\": 895315337436,\n",
      "                    \"percentage_change_1h\": 0.32786956823142,\n",
      "                    \"percentage_change_24h\": 9.83139610941472,\n",
      "                    \"percentage_change_7d\": 5.69686138777727,\n",
      "                    \"percent_change_1h\": 0.32786956823142,\n",
      "                    \"percent_change_24h\": 9.83139610941472,\n",
      "                    \"percent_change_7d\": 5.69686138777727\n",
      "                },\n",
      "                \"CAD\": {\n",
      "                    \"price\": 60127.6321,\n",
      "                    \"volume_24h\": 51570391380.6871,\n",
      "                    \"market_cap\": 1132305307255.31,\n",
      "                    \"percent_change_1h\": 0.32786956823142,\n",
      "                    \"percent_change_24h\": 9.83139610941472,\n",
      "                    \"percent_change_7d\": 5.69686138777727\n",
      "                }\n",
      "            },\n",
      "            \"last_updated\": 1633109065\n",
      "        }\n",
      "    },\n",
      "    \"metadata\": {\n",
      "        \"timestamp\": 1633109065,\n",
      "        \"num_cryptocurrencies\": 3105,\n",
      "        \"error\": null\n",
      "    }\n",
      "}\n"
     ]
    }
   ],
   "metadata": {}
  },
  {
   "cell_type": "code",
   "execution_count": 7,
   "source": [
    "print(json.dumps(eth_response, indent=4))"
   ],
   "outputs": [
    {
     "output_type": "stream",
     "name": "stdout",
     "text": [
      "{\n",
      "    \"data\": {\n",
      "        \"1027\": {\n",
      "            \"id\": 1027,\n",
      "            \"name\": \"Ethereum\",\n",
      "            \"symbol\": \"ETH\",\n",
      "            \"website_slug\": \"ethereum\",\n",
      "            \"rank\": 2,\n",
      "            \"circulating_supply\": 117751908,\n",
      "            \"total_supply\": 117751908,\n",
      "            \"max_supply\": 0,\n",
      "            \"quotes\": {\n",
      "                \"USD\": {\n",
      "                    \"price\": 3273.16,\n",
      "                    \"volume_24h\": 23677214692,\n",
      "                    \"market_cap\": 385507500391,\n",
      "                    \"percentage_change_1h\": 0.925542177085553,\n",
      "                    \"percentage_change_24h\": 9.05583792365979,\n",
      "                    \"percentage_change_7d\": 3.6050833794615,\n",
      "                    \"percent_change_1h\": 0.925542177085553,\n",
      "                    \"percent_change_24h\": 9.05583792365979,\n",
      "                    \"percent_change_7d\": 3.6050833794615\n",
      "                },\n",
      "                \"CAD\": {\n",
      "                    \"price\": 4139.565452,\n",
      "                    \"volume_24h\": 29944573420.9724,\n",
      "                    \"market_cap\": 487551335744.498,\n",
      "                    \"percent_change_1h\": 0.925542177085553,\n",
      "                    \"percent_change_24h\": 9.05583792365979,\n",
      "                    \"percent_change_7d\": 3.6050833794615\n",
      "                }\n",
      "            },\n",
      "            \"last_updated\": 1633109061\n",
      "        }\n",
      "    },\n",
      "    \"metadata\": {\n",
      "        \"timestamp\": 1633109061,\n",
      "        \"num_cryptocurrencies\": 3105,\n",
      "        \"error\": null\n",
      "    }\n",
      "}\n"
     ]
    }
   ],
   "metadata": {}
  },
  {
   "cell_type": "code",
   "execution_count": 8,
   "source": [
    "# Fetch current BTC price\n",
    "btc_price = btc_response[\"data\"][\"1\"][\"quotes\"][\"USD\"][\"price\"]\n",
    "# Fetch current ETH price\n",
    "eth_price = eth_response[\"data\"][\"1027\"][\"quotes\"][\"USD\"][\"price\"]\n",
    "\n",
    "\n",
    "# Compute current value of my crpto\n",
    "my_btc_value = my_btc * btc_price\n",
    "my_eth_value = my_eth * eth_price\n",
    "\n",
    "# Print current crypto wallet balance\n",
    "print(f\"The current value of your {my_btc} BTC is ${my_btc_value:0.2f}\")\n",
    "print(f\"The current value of your {my_eth} ETH is ${my_eth_value:0.2f}\")"
   ],
   "outputs": [
    {
     "output_type": "stream",
     "name": "stdout",
     "text": [
      "The current value of your 1.2 BTC is $57051.60\n",
      "The current value of your 5.3 ETH is $17347.75\n"
     ]
    }
   ],
   "metadata": {}
  },
  {
   "cell_type": "markdown",
   "source": [
    "### Collect Investments Data Using Alpaca: `SPY` (stocks) and `AGG` (bonds)"
   ],
   "metadata": {}
  },
  {
   "cell_type": "code",
   "execution_count": 9,
   "source": [
    "# Set current amount of shares\n",
    "my_agg = 200\n",
    "my_spy = 50"
   ],
   "outputs": [],
   "metadata": {}
  },
  {
   "cell_type": "code",
   "execution_count": 10,
   "source": [
    "# Set Alpaca API key and secret\n",
    "alpaca_api_key = os.getenv(\"ALPACA_API_KEY\")\n",
    "alpaca_secret_key = os.getenv(\"ALPACA_SECRET_KEY\")\n",
    "\n",
    "# Create the Alpaca API object\n",
    "api = tradeapi.REST(\n",
    "    alpaca_api_key,\n",
    "    alpaca_secret_key,\n",
    "    api_version = \"v2\"\n",
    ")"
   ],
   "outputs": [],
   "metadata": {}
  },
  {
   "cell_type": "code",
   "execution_count": 11,
   "source": [
    "# Verify keys and secret key\n",
    "print(type(alpaca_api_key))\n",
    "print(type(alpaca_secret_key))"
   ],
   "outputs": [
    {
     "output_type": "stream",
     "name": "stdout",
     "text": [
      "<class 'str'>\n",
      "<class 'str'>\n"
     ]
    }
   ],
   "metadata": {}
  },
  {
   "cell_type": "code",
   "execution_count": 12,
   "source": [
    "# Format current date as ISO format\n",
    "today = pd.Timestamp(\"2021-09-29\", tz=\"America/New_York\").isoformat()\n",
    "\n",
    "# Set the tickers\n",
    "tickers = [\"AGG\", \"SPY\"]\n",
    "\n",
    "# Set timeframe to '1D' for Alpaca API\n",
    "timeframe = \"1D\"\n",
    "\n",
    "# Get current closing prices for SPY and AGG\n",
    "# (use a limit=1000 parameter to call the most recent 1000 days of data)\n",
    "current_closing_price = api.get_barset(\n",
    "    tickers,\n",
    "    timeframe,\n",
    "    start=today,\n",
    "    end=today,\n",
    "    limit=1000,\n",
    ").df\n",
    "\n",
    "# Preview DataFrame\n",
    "current_closing_price.head()"
   ],
   "outputs": [
    {
     "output_type": "execute_result",
     "data": {
      "text/html": [
       "<div>\n",
       "<style scoped>\n",
       "    .dataframe tbody tr th:only-of-type {\n",
       "        vertical-align: middle;\n",
       "    }\n",
       "\n",
       "    .dataframe tbody tr th {\n",
       "        vertical-align: top;\n",
       "    }\n",
       "\n",
       "    .dataframe thead tr th {\n",
       "        text-align: left;\n",
       "    }\n",
       "\n",
       "    .dataframe thead tr:last-of-type th {\n",
       "        text-align: right;\n",
       "    }\n",
       "</style>\n",
       "<table border=\"1\" class=\"dataframe\">\n",
       "  <thead>\n",
       "    <tr>\n",
       "      <th></th>\n",
       "      <th colspan=\"5\" halign=\"left\">AGG</th>\n",
       "      <th colspan=\"5\" halign=\"left\">SPY</th>\n",
       "    </tr>\n",
       "    <tr>\n",
       "      <th></th>\n",
       "      <th>open</th>\n",
       "      <th>high</th>\n",
       "      <th>low</th>\n",
       "      <th>close</th>\n",
       "      <th>volume</th>\n",
       "      <th>open</th>\n",
       "      <th>high</th>\n",
       "      <th>low</th>\n",
       "      <th>close</th>\n",
       "      <th>volume</th>\n",
       "    </tr>\n",
       "    <tr>\n",
       "      <th>time</th>\n",
       "      <th></th>\n",
       "      <th></th>\n",
       "      <th></th>\n",
       "      <th></th>\n",
       "      <th></th>\n",
       "      <th></th>\n",
       "      <th></th>\n",
       "      <th></th>\n",
       "      <th></th>\n",
       "      <th></th>\n",
       "    </tr>\n",
       "  </thead>\n",
       "  <tbody>\n",
       "    <tr>\n",
       "      <th>2021-09-29 00:00:00-04:00</th>\n",
       "      <td>114.97</td>\n",
       "      <td>115.06</td>\n",
       "      <td>114.715</td>\n",
       "      <td>114.85</td>\n",
       "      <td>5099586</td>\n",
       "      <td>435.19</td>\n",
       "      <td>437.04</td>\n",
       "      <td>433.85</td>\n",
       "      <td>434.44</td>\n",
       "      <td>69828191</td>\n",
       "    </tr>\n",
       "  </tbody>\n",
       "</table>\n",
       "</div>"
      ],
      "text/plain": [
       "                              AGG                                       SPY  \\\n",
       "                             open    high      low   close   volume    open   \n",
       "time                                                                          \n",
       "2021-09-29 00:00:00-04:00  114.97  115.06  114.715  114.85  5099586  435.19   \n",
       "\n",
       "                                                             \n",
       "                             high     low   close    volume  \n",
       "time                                                         \n",
       "2021-09-29 00:00:00-04:00  437.04  433.85  434.44  69828191  "
      ]
     },
     "metadata": {},
     "execution_count": 12
    }
   ],
   "metadata": {}
  },
  {
   "cell_type": "code",
   "execution_count": 13,
   "source": [
    "# Pick AGG and SPY close prices\n",
    "agg_close_price = float(current_closing_price[\"AGG\"][\"close\"])\n",
    "spy_close_price = float(current_closing_price[\"SPY\"][\"close\"])\n",
    "# Print AGG and SPY close prices\n",
    "print(f\"Current AGG closing price: ${agg_close_price}\")\n",
    "print(f\"Current SPY closing price: ${spy_close_price}\")"
   ],
   "outputs": [
    {
     "output_type": "stream",
     "name": "stdout",
     "text": [
      "Current AGG closing price: $114.85\n",
      "Current SPY closing price: $434.44\n"
     ]
    }
   ],
   "metadata": {}
  },
  {
   "cell_type": "code",
   "execution_count": 14,
   "source": [
    "# Compute the current value of shares\n",
    "my_agg_value = my_agg * agg_close_price\n",
    "my_spy_value = my_spy * spy_close_price\n",
    "\n",
    "# Print current value of shares\n",
    "print(f\"The current value of your {my_spy} SPY shares is ${my_spy_value:0.2f}\")\n",
    "print(f\"The current value of your {my_agg} AGG shares is ${my_agg_value:0.2f}\")"
   ],
   "outputs": [
    {
     "output_type": "stream",
     "name": "stdout",
     "text": [
      "The current value of your 50 SPY shares is $21722.00\n",
      "The current value of your 200 AGG shares is $22970.00\n"
     ]
    }
   ],
   "metadata": {}
  },
  {
   "cell_type": "markdown",
   "source": [
    "### Savings Health Analysis"
   ],
   "metadata": {}
  },
  {
   "cell_type": "code",
   "execution_count": 15,
   "source": [
    "# Set monthly household income\n",
    "monthly_household_income = 12000"
   ],
   "outputs": [],
   "metadata": {}
  },
  {
   "cell_type": "code",
   "execution_count": 16,
   "source": [
    "# Consolidate financial assets data\n",
    "total_crypto = my_btc_value + my_eth_value\n",
    "total_investments = my_agg_value + my_spy_value\n",
    "consolidate_assets = total_crypto + total_investments\n",
    "\n",
    "print(f\"The consolidated financial asset is worth ${consolidate_assets:0.2f}\")"
   ],
   "outputs": [
    {
     "output_type": "stream",
     "name": "stdout",
     "text": [
      "The consolidated financial asset is worth $119091.35\n"
     ]
    }
   ],
   "metadata": {}
  },
  {
   "cell_type": "code",
   "execution_count": 17,
   "source": [
    "# Create savings DataFrame\n",
    "data = [total_crypto, total_investments]\n",
    "\n",
    "df_savings = pd.DataFrame(data, index =[\"crypto\", \"shares\"],columns =[\"Amount\"])\n",
    "\n",
    "# Display savings DataFrame\n",
    "display(df_savings)"
   ],
   "outputs": [
    {
     "output_type": "display_data",
     "data": {
      "text/html": [
       "<div>\n",
       "<style scoped>\n",
       "    .dataframe tbody tr th:only-of-type {\n",
       "        vertical-align: middle;\n",
       "    }\n",
       "\n",
       "    .dataframe tbody tr th {\n",
       "        vertical-align: top;\n",
       "    }\n",
       "\n",
       "    .dataframe thead th {\n",
       "        text-align: right;\n",
       "    }\n",
       "</style>\n",
       "<table border=\"1\" class=\"dataframe\">\n",
       "  <thead>\n",
       "    <tr style=\"text-align: right;\">\n",
       "      <th></th>\n",
       "      <th>Amount</th>\n",
       "    </tr>\n",
       "  </thead>\n",
       "  <tbody>\n",
       "    <tr>\n",
       "      <th>crypto</th>\n",
       "      <td>74399.348</td>\n",
       "    </tr>\n",
       "    <tr>\n",
       "      <th>shares</th>\n",
       "      <td>44692.000</td>\n",
       "    </tr>\n",
       "  </tbody>\n",
       "</table>\n",
       "</div>"
      ],
      "text/plain": [
       "           Amount\n",
       "crypto  74399.348\n",
       "shares  44692.000"
      ]
     },
     "metadata": {}
    }
   ],
   "metadata": {}
  },
  {
   "cell_type": "code",
   "execution_count": 18,
   "source": [
    "# Plot savings pie chart\n",
    "\n",
    "df_savings.plot(kind=\"pie\", subplots=True)"
   ],
   "outputs": [
    {
     "output_type": "execute_result",
     "data": {
      "text/plain": [
       "array([<AxesSubplot:ylabel='Amount'>], dtype=object)"
      ]
     },
     "metadata": {},
     "execution_count": 18
    },
    {
     "output_type": "display_data",
     "data": {
      "image/png": "[encoded data removed]",
      "text/plain": [
       "<Figure size 432x288 with 1 Axes>"
      ]
     },
     "metadata": {}
    }
   ],
   "metadata": {}
  },
  {
   "cell_type": "code",
   "execution_count": 19,
   "source": [
    "# Set ideal emergency fund\n",
    "emergency_fund = monthly_household_income  * 3\n",
    "print(f\"The total amount in the emergency fund is ${emergency_fund}\")\n",
    "\n",
    "# Calculate total amount of savings\n",
    "print(f\"The total amount of savings is ${consolidate_assets:0.2f}\")"
   ],
   "outputs": [
    {
     "output_type": "stream",
     "name": "stdout",
     "text": [
      "The total amount in the emergency fund is $36000\n",
      "The total amount of savings is $119091.35\n"
     ]
    }
   ],
   "metadata": {}
  },
  {
   "cell_type": "code",
   "execution_count": 20,
   "source": [
    "# Validate saving health\n",
    "if consolidate_assets > emergency_fund:\n",
    "   print(\"Congrats! You have a gracious amount of money in your emergency fund. You are on your way to becoming the next Bruce Wayne\")\n",
    "elif consolidate_assets == emergency_fund:\n",
    "   print(\"Congrats! You reached your financial goal, yay!\")\n",
    "else:\n",
    "   print(f\"You are ${consolidate_assets - emergency_fund} dollars away from reaching your goal. Keep eating those ramen noodles. nom nom nom\")\n"
   ],
   "outputs": [
    {
     "output_type": "stream",
     "name": "stdout",
     "text": [
      "Congrats! You have a gracious amount of money in your emergency fund. You are on your way to becoming the next Bruce Wayne\n"
     ]
    }
   ],
   "metadata": {}
  },
  {
   "cell_type": "markdown",
   "source": [
    "## Part 2 - Retirement Planning\n",
    "\n",
    "### Monte Carlo Simulation"
   ],
   "metadata": {}
  },
  {
   "cell_type": "code",
   "execution_count": 21,
   "source": [
    "# Set start and end dates of five years back from today.\n",
    "# Sample results may vary from the solution based on the time frame chosen\n",
    "start_date = pd.Timestamp('2016-10-01', tz='America/New_York').isoformat()\n",
    "end_date = pd.Timestamp('2021-10-01', tz='America/New_York').isoformat()"
   ],
   "outputs": [],
   "metadata": {}
  },
  {
   "cell_type": "code",
   "execution_count": 22,
   "source": [
    "# Get 5 years' worth of historical data for SPY and AGG\n",
    "# (use a limit=1000 parameter to call the most recent 1000 days of data)\n",
    "tickers = [\"AGG\", \"SPY\"]\n",
    "df_stock_data = api.get_barset(\n",
    "    tickers,\n",
    "    timeframe,\n",
    "    start=start_date,\n",
    "    end=end_date,\n",
    "    limit=1000,\n",
    ").df\n",
    "\n",
    "# Display sample data\n",
    "df_stock_data.head()"
   ],
   "outputs": [
    {
     "output_type": "execute_result",
     "data": {
      "text/html": [
       "<div>\n",
       "<style scoped>\n",
       "    .dataframe tbody tr th:only-of-type {\n",
       "        vertical-align: middle;\n",
       "    }\n",
       "\n",
       "    .dataframe tbody tr th {\n",
       "        vertical-align: top;\n",
       "    }\n",
       "\n",
       "    .dataframe thead tr th {\n",
       "        text-align: left;\n",
       "    }\n",
       "\n",
       "    .dataframe thead tr:last-of-type th {\n",
       "        text-align: right;\n",
       "    }\n",
       "</style>\n",
       "<table border=\"1\" class=\"dataframe\">\n",
       "  <thead>\n",
       "    <tr>\n",
       "      <th></th>\n",
       "      <th colspan=\"5\" halign=\"left\">AGG</th>\n",
       "      <th colspan=\"5\" halign=\"left\">SPY</th>\n",
       "    </tr>\n",
       "    <tr>\n",
       "      <th></th>\n",
       "      <th>open</th>\n",
       "      <th>high</th>\n",
       "      <th>low</th>\n",
       "      <th>close</th>\n",
       "      <th>volume</th>\n",
       "      <th>open</th>\n",
       "      <th>high</th>\n",
       "      <th>low</th>\n",
       "      <th>close</th>\n",
       "      <th>volume</th>\n",
       "    </tr>\n",
       "    <tr>\n",
       "      <th>time</th>\n",
       "      <th></th>\n",
       "      <th></th>\n",
       "      <th></th>\n",
       "      <th></th>\n",
       "      <th></th>\n",
       "      <th></th>\n",
       "      <th></th>\n",
       "      <th></th>\n",
       "      <th></th>\n",
       "      <th></th>\n",
       "    </tr>\n",
       "  </thead>\n",
       "  <tbody>\n",
       "    <tr>\n",
       "      <th>2017-10-11 00:00:00-04:00</th>\n",
       "      <td>109.47</td>\n",
       "      <td>109.53</td>\n",
       "      <td>109.42</td>\n",
       "      <td>109.47</td>\n",
       "      <td>1576528.0</td>\n",
       "      <td>NaN</td>\n",
       "      <td>NaN</td>\n",
       "      <td>NaN</td>\n",
       "      <td>NaN</td>\n",
       "      <td>NaN</td>\n",
       "    </tr>\n",
       "    <tr>\n",
       "      <th>2017-10-12 00:00:00-04:00</th>\n",
       "      <td>109.56</td>\n",
       "      <td>109.61</td>\n",
       "      <td>109.48</td>\n",
       "      <td>109.61</td>\n",
       "      <td>1797948.0</td>\n",
       "      <td>254.66</td>\n",
       "      <td>255.06</td>\n",
       "      <td>254.365</td>\n",
       "      <td>254.60</td>\n",
       "      <td>32195167.0</td>\n",
       "    </tr>\n",
       "    <tr>\n",
       "      <th>2017-10-13 00:00:00-04:00</th>\n",
       "      <td>109.82</td>\n",
       "      <td>109.87</td>\n",
       "      <td>109.69</td>\n",
       "      <td>109.85</td>\n",
       "      <td>1573645.0</td>\n",
       "      <td>255.14</td>\n",
       "      <td>255.27</td>\n",
       "      <td>254.640</td>\n",
       "      <td>254.91</td>\n",
       "      <td>33563533.0</td>\n",
       "    </tr>\n",
       "    <tr>\n",
       "      <th>2017-10-16 00:00:00-04:00</th>\n",
       "      <td>109.75</td>\n",
       "      <td>109.81</td>\n",
       "      <td>109.66</td>\n",
       "      <td>109.74</td>\n",
       "      <td>3556213.0</td>\n",
       "      <td>255.21</td>\n",
       "      <td>255.51</td>\n",
       "      <td>254.820</td>\n",
       "      <td>255.30</td>\n",
       "      <td>25720677.0</td>\n",
       "    </tr>\n",
       "    <tr>\n",
       "      <th>2017-10-17 00:00:00-04:00</th>\n",
       "      <td>109.62</td>\n",
       "      <td>109.74</td>\n",
       "      <td>109.55</td>\n",
       "      <td>109.70</td>\n",
       "      <td>1638086.0</td>\n",
       "      <td>255.24</td>\n",
       "      <td>255.52</td>\n",
       "      <td>254.980</td>\n",
       "      <td>255.46</td>\n",
       "      <td>23608473.0</td>\n",
       "    </tr>\n",
       "  </tbody>\n",
       "</table>\n",
       "</div>"
      ],
      "text/plain": [
       "                              AGG                                        SPY  \\\n",
       "                             open    high     low   close     volume    open   \n",
       "time                                                                           \n",
       "2017-10-11 00:00:00-04:00  109.47  109.53  109.42  109.47  1576528.0     NaN   \n",
       "2017-10-12 00:00:00-04:00  109.56  109.61  109.48  109.61  1797948.0  254.66   \n",
       "2017-10-13 00:00:00-04:00  109.82  109.87  109.69  109.85  1573645.0  255.14   \n",
       "2017-10-16 00:00:00-04:00  109.75  109.81  109.66  109.74  3556213.0  255.21   \n",
       "2017-10-17 00:00:00-04:00  109.62  109.74  109.55  109.70  1638086.0  255.24   \n",
       "\n",
       "                                                                \n",
       "                             high      low   close      volume  \n",
       "time                                                            \n",
       "2017-10-11 00:00:00-04:00     NaN      NaN     NaN         NaN  \n",
       "2017-10-12 00:00:00-04:00  255.06  254.365  254.60  32195167.0  \n",
       "2017-10-13 00:00:00-04:00  255.27  254.640  254.91  33563533.0  \n",
       "2017-10-16 00:00:00-04:00  255.51  254.820  255.30  25720677.0  \n",
       "2017-10-17 00:00:00-04:00  255.52  254.980  255.46  23608473.0  "
      ]
     },
     "metadata": {},
     "execution_count": 22
    }
   ],
   "metadata": {}
  },
  {
   "cell_type": "code",
   "execution_count": 23,
   "source": [
    "# Configuring a Monte Carlo simulation to forecast 30 years cumulative returns\n",
    "MC_thirty_year = MCSimulation(\n",
    "    portfolio_data = df_stock_data,\n",
    "    weights = [.40,.60],\n",
    "    num_simulation = 500,\n",
    "    num_trading_days = 252*30\n",
    ")\n",
    "#use the Alpaca API to fetch five years historical closing prices \n",
    "#for a traditional `40/60` portfolio using the `SPY` and `AGG` \n",
    "# tickers to represent the `60%` stocks (`SPY`) and `40%` bonds (`AGG`) \n",
    "# composition of the portfolio. Make sure to convert the API output \n",
    "# to a DataFrame and preview the output."
   ],
   "outputs": [],
   "metadata": {}
  },
  {
   "cell_type": "code",
   "execution_count": 24,
   "source": [
    "# Printing the simulation input data\n",
    "MC_thirty_year.portfolio_data.head()"
   ],
   "outputs": [
    {
     "output_type": "execute_result",
     "data": {
      "text/html": [
       "<div>\n",
       "<style scoped>\n",
       "    .dataframe tbody tr th:only-of-type {\n",
       "        vertical-align: middle;\n",
       "    }\n",
       "\n",
       "    .dataframe tbody tr th {\n",
       "        vertical-align: top;\n",
       "    }\n",
       "\n",
       "    .dataframe thead tr th {\n",
       "        text-align: left;\n",
       "    }\n",
       "\n",
       "    .dataframe thead tr:last-of-type th {\n",
       "        text-align: right;\n",
       "    }\n",
       "</style>\n",
       "<table border=\"1\" class=\"dataframe\">\n",
       "  <thead>\n",
       "    <tr>\n",
       "      <th></th>\n",
       "      <th colspan=\"6\" halign=\"left\">AGG</th>\n",
       "      <th colspan=\"6\" halign=\"left\">SPY</th>\n",
       "    </tr>\n",
       "    <tr>\n",
       "      <th></th>\n",
       "      <th>open</th>\n",
       "      <th>high</th>\n",
       "      <th>low</th>\n",
       "      <th>close</th>\n",
       "      <th>volume</th>\n",
       "      <th>daily_return</th>\n",
       "      <th>open</th>\n",
       "      <th>high</th>\n",
       "      <th>low</th>\n",
       "      <th>close</th>\n",
       "      <th>volume</th>\n",
       "      <th>daily_return</th>\n",
       "    </tr>\n",
       "    <tr>\n",
       "      <th>time</th>\n",
       "      <th></th>\n",
       "      <th></th>\n",
       "      <th></th>\n",
       "      <th></th>\n",
       "      <th></th>\n",
       "      <th></th>\n",
       "      <th></th>\n",
       "      <th></th>\n",
       "      <th></th>\n",
       "      <th></th>\n",
       "      <th></th>\n",
       "      <th></th>\n",
       "    </tr>\n",
       "  </thead>\n",
       "  <tbody>\n",
       "    <tr>\n",
       "      <th>2017-10-11 00:00:00-04:00</th>\n",
       "      <td>109.47</td>\n",
       "      <td>109.53</td>\n",
       "      <td>109.42</td>\n",
       "      <td>109.47</td>\n",
       "      <td>1576528.0</td>\n",
       "      <td>NaN</td>\n",
       "      <td>NaN</td>\n",
       "      <td>NaN</td>\n",
       "      <td>NaN</td>\n",
       "      <td>NaN</td>\n",
       "      <td>NaN</td>\n",
       "      <td>NaN</td>\n",
       "    </tr>\n",
       "    <tr>\n",
       "      <th>2017-10-12 00:00:00-04:00</th>\n",
       "      <td>109.56</td>\n",
       "      <td>109.61</td>\n",
       "      <td>109.48</td>\n",
       "      <td>109.61</td>\n",
       "      <td>1797948.0</td>\n",
       "      <td>0.001279</td>\n",
       "      <td>254.66</td>\n",
       "      <td>255.06</td>\n",
       "      <td>254.365</td>\n",
       "      <td>254.60</td>\n",
       "      <td>32195167.0</td>\n",
       "      <td>NaN</td>\n",
       "    </tr>\n",
       "    <tr>\n",
       "      <th>2017-10-13 00:00:00-04:00</th>\n",
       "      <td>109.82</td>\n",
       "      <td>109.87</td>\n",
       "      <td>109.69</td>\n",
       "      <td>109.85</td>\n",
       "      <td>1573645.0</td>\n",
       "      <td>0.002190</td>\n",
       "      <td>255.14</td>\n",
       "      <td>255.27</td>\n",
       "      <td>254.640</td>\n",
       "      <td>254.91</td>\n",
       "      <td>33563533.0</td>\n",
       "      <td>0.001218</td>\n",
       "    </tr>\n",
       "    <tr>\n",
       "      <th>2017-10-16 00:00:00-04:00</th>\n",
       "      <td>109.75</td>\n",
       "      <td>109.81</td>\n",
       "      <td>109.66</td>\n",
       "      <td>109.74</td>\n",
       "      <td>3556213.0</td>\n",
       "      <td>-0.001001</td>\n",
       "      <td>255.21</td>\n",
       "      <td>255.51</td>\n",
       "      <td>254.820</td>\n",
       "      <td>255.30</td>\n",
       "      <td>25720677.0</td>\n",
       "      <td>0.001530</td>\n",
       "    </tr>\n",
       "    <tr>\n",
       "      <th>2017-10-17 00:00:00-04:00</th>\n",
       "      <td>109.62</td>\n",
       "      <td>109.74</td>\n",
       "      <td>109.55</td>\n",
       "      <td>109.70</td>\n",
       "      <td>1638086.0</td>\n",
       "      <td>-0.000364</td>\n",
       "      <td>255.24</td>\n",
       "      <td>255.52</td>\n",
       "      <td>254.980</td>\n",
       "      <td>255.46</td>\n",
       "      <td>23608473.0</td>\n",
       "      <td>0.000627</td>\n",
       "    </tr>\n",
       "  </tbody>\n",
       "</table>\n",
       "</div>"
      ],
      "text/plain": [
       "                              AGG                                     \\\n",
       "                             open    high     low   close     volume   \n",
       "time                                                                   \n",
       "2017-10-11 00:00:00-04:00  109.47  109.53  109.42  109.47  1576528.0   \n",
       "2017-10-12 00:00:00-04:00  109.56  109.61  109.48  109.61  1797948.0   \n",
       "2017-10-13 00:00:00-04:00  109.82  109.87  109.69  109.85  1573645.0   \n",
       "2017-10-16 00:00:00-04:00  109.75  109.81  109.66  109.74  3556213.0   \n",
       "2017-10-17 00:00:00-04:00  109.62  109.74  109.55  109.70  1638086.0   \n",
       "\n",
       "                                           SPY                           \\\n",
       "                          daily_return    open    high      low   close   \n",
       "time                                                                      \n",
       "2017-10-11 00:00:00-04:00          NaN     NaN     NaN      NaN     NaN   \n",
       "2017-10-12 00:00:00-04:00     0.001279  254.66  255.06  254.365  254.60   \n",
       "2017-10-13 00:00:00-04:00     0.002190  255.14  255.27  254.640  254.91   \n",
       "2017-10-16 00:00:00-04:00    -0.001001  255.21  255.51  254.820  255.30   \n",
       "2017-10-17 00:00:00-04:00    -0.000364  255.24  255.52  254.980  255.46   \n",
       "\n",
       "                                                    \n",
       "                               volume daily_return  \n",
       "time                                                \n",
       "2017-10-11 00:00:00-04:00         NaN          NaN  \n",
       "2017-10-12 00:00:00-04:00  32195167.0          NaN  \n",
       "2017-10-13 00:00:00-04:00  33563533.0     0.001218  \n",
       "2017-10-16 00:00:00-04:00  25720677.0     0.001530  \n",
       "2017-10-17 00:00:00-04:00  23608473.0     0.000627  "
      ]
     },
     "metadata": {},
     "execution_count": 24
    }
   ],
   "metadata": {}
  },
  {
   "cell_type": "code",
   "execution_count": 25,
   "source": [
    "# Running a Monte Carlo simulation to forecast 30 years cumulative returns\n",
    "MC_thirty_year.calc_cumulative_return()"
   ],
   "outputs": [
    {
     "output_type": "stream",
     "name": "stdout",
     "text": [
      "Running Monte Carlo simulation number 0.\n",
      "Running Monte Carlo simulation number 10.\n",
      "Running Monte Carlo simulation number 20.\n",
      "Running Monte Carlo simulation number 30.\n",
      "Running Monte Carlo simulation number 40.\n",
      "Running Monte Carlo simulation number 50.\n",
      "Running Monte Carlo simulation number 60.\n",
      "Running Monte Carlo simulation number 70.\n",
      "Running Monte Carlo simulation number 80.\n",
      "Running Monte Carlo simulation number 90.\n",
      "Running Monte Carlo simulation number 100.\n",
      "Running Monte Carlo simulation number 110.\n",
      "Running Monte Carlo simulation number 120.\n",
      "Running Monte Carlo simulation number 130.\n",
      "Running Monte Carlo simulation number 140.\n",
      "Running Monte Carlo simulation number 150.\n",
      "Running Monte Carlo simulation number 160.\n",
      "Running Monte Carlo simulation number 170.\n",
      "Running Monte Carlo simulation number 180.\n",
      "Running Monte Carlo simulation number 190.\n",
      "Running Monte Carlo simulation number 200.\n",
      "Running Monte Carlo simulation number 210.\n",
      "Running Monte Carlo simulation number 220.\n",
      "Running Monte Carlo simulation number 230.\n",
      "Running Monte Carlo simulation number 240.\n",
      "Running Monte Carlo simulation number 250.\n",
      "Running Monte Carlo simulation number 260.\n",
      "Running Monte Carlo simulation number 270.\n",
      "Running Monte Carlo simulation number 280.\n",
      "Running Monte Carlo simulation number 290.\n",
      "Running Monte Carlo simulation number 300.\n",
      "Running Monte Carlo simulation number 310.\n",
      "Running Monte Carlo simulation number 320.\n",
      "Running Monte Carlo simulation number 330.\n",
      "Running Monte Carlo simulation number 340.\n",
      "Running Monte Carlo simulation number 350.\n",
      "Running Monte Carlo simulation number 360.\n",
      "Running Monte Carlo simulation number 370.\n",
      "Running Monte Carlo simulation number 380.\n",
      "Running Monte Carlo simulation number 390.\n",
      "Running Monte Carlo simulation number 400.\n",
      "Running Monte Carlo simulation number 410.\n",
      "Running Monte Carlo simulation number 420.\n",
      "Running Monte Carlo simulation number 430.\n",
      "Running Monte Carlo simulation number 440.\n",
      "Running Monte Carlo simulation number 450.\n",
      "Running Monte Carlo simulation number 460.\n",
      "Running Monte Carlo simulation number 470.\n",
      "Running Monte Carlo simulation number 480.\n",
      "Running Monte Carlo simulation number 490.\n"
     ]
    },
    {
     "output_type": "execute_result",
     "data": {
      "text/html": [
       "<div>\n",
       "<style scoped>\n",
       "    .dataframe tbody tr th:only-of-type {\n",
       "        vertical-align: middle;\n",
       "    }\n",
       "\n",
       "    .dataframe tbody tr th {\n",
       "        vertical-align: top;\n",
       "    }\n",
       "\n",
       "    .dataframe thead th {\n",
       "        text-align: right;\n",
       "    }\n",
       "</style>\n",
       "<table border=\"1\" class=\"dataframe\">\n",
       "  <thead>\n",
       "    <tr style=\"text-align: right;\">\n",
       "      <th></th>\n",
       "      <th>0</th>\n",
       "      <th>1</th>\n",
       "      <th>2</th>\n",
       "      <th>3</th>\n",
       "      <th>4</th>\n",
       "      <th>5</th>\n",
       "      <th>6</th>\n",
       "      <th>7</th>\n",
       "      <th>8</th>\n",
       "      <th>9</th>\n",
       "      <th>...</th>\n",
       "      <th>490</th>\n",
       "      <th>491</th>\n",
       "      <th>492</th>\n",
       "      <th>493</th>\n",
       "      <th>494</th>\n",
       "      <th>495</th>\n",
       "      <th>496</th>\n",
       "      <th>497</th>\n",
       "      <th>498</th>\n",
       "      <th>499</th>\n",
       "    </tr>\n",
       "  </thead>\n",
       "  <tbody>\n",
       "    <tr>\n",
       "      <th>0</th>\n",
       "      <td>1.000000</td>\n",
       "      <td>1.000000</td>\n",
       "      <td>1.000000</td>\n",
       "      <td>1.000000</td>\n",
       "      <td>1.000000</td>\n",
       "      <td>1.000000</td>\n",
       "      <td>1.000000</td>\n",
       "      <td>1.000000</td>\n",
       "      <td>1.000000</td>\n",
       "      <td>1.000000</td>\n",
       "      <td>...</td>\n",
       "      <td>1.000000</td>\n",
       "      <td>1.000000</td>\n",
       "      <td>1.000000</td>\n",
       "      <td>1.000000</td>\n",
       "      <td>1.000000</td>\n",
       "      <td>1.000000</td>\n",
       "      <td>1.000000</td>\n",
       "      <td>1.000000</td>\n",
       "      <td>1.000000</td>\n",
       "      <td>1.000000</td>\n",
       "    </tr>\n",
       "    <tr>\n",
       "      <th>1</th>\n",
       "      <td>1.007414</td>\n",
       "      <td>1.011860</td>\n",
       "      <td>1.004088</td>\n",
       "      <td>1.007126</td>\n",
       "      <td>0.985556</td>\n",
       "      <td>1.013956</td>\n",
       "      <td>0.993129</td>\n",
       "      <td>1.004295</td>\n",
       "      <td>0.980130</td>\n",
       "      <td>1.008389</td>\n",
       "      <td>...</td>\n",
       "      <td>0.998149</td>\n",
       "      <td>0.994660</td>\n",
       "      <td>1.007937</td>\n",
       "      <td>0.988873</td>\n",
       "      <td>1.001144</td>\n",
       "      <td>1.010600</td>\n",
       "      <td>1.013796</td>\n",
       "      <td>0.990445</td>\n",
       "      <td>1.004569</td>\n",
       "      <td>1.001998</td>\n",
       "    </tr>\n",
       "    <tr>\n",
       "      <th>2</th>\n",
       "      <td>0.992458</td>\n",
       "      <td>1.012567</td>\n",
       "      <td>1.010335</td>\n",
       "      <td>1.015282</td>\n",
       "      <td>0.983631</td>\n",
       "      <td>1.015754</td>\n",
       "      <td>0.982571</td>\n",
       "      <td>1.001629</td>\n",
       "      <td>0.975849</td>\n",
       "      <td>1.005289</td>\n",
       "      <td>...</td>\n",
       "      <td>0.995170</td>\n",
       "      <td>0.984533</td>\n",
       "      <td>0.996557</td>\n",
       "      <td>0.996539</td>\n",
       "      <td>0.997182</td>\n",
       "      <td>0.998315</td>\n",
       "      <td>1.014943</td>\n",
       "      <td>0.984660</td>\n",
       "      <td>0.993472</td>\n",
       "      <td>0.998340</td>\n",
       "    </tr>\n",
       "    <tr>\n",
       "      <th>3</th>\n",
       "      <td>0.990399</td>\n",
       "      <td>1.018349</td>\n",
       "      <td>1.018383</td>\n",
       "      <td>1.015557</td>\n",
       "      <td>0.975545</td>\n",
       "      <td>1.011533</td>\n",
       "      <td>0.973436</td>\n",
       "      <td>1.010720</td>\n",
       "      <td>0.986917</td>\n",
       "      <td>1.020844</td>\n",
       "      <td>...</td>\n",
       "      <td>0.997860</td>\n",
       "      <td>0.987806</td>\n",
       "      <td>1.013052</td>\n",
       "      <td>0.989883</td>\n",
       "      <td>1.003703</td>\n",
       "      <td>1.001046</td>\n",
       "      <td>1.016764</td>\n",
       "      <td>0.979877</td>\n",
       "      <td>0.989755</td>\n",
       "      <td>1.009240</td>\n",
       "    </tr>\n",
       "    <tr>\n",
       "      <th>4</th>\n",
       "      <td>0.998665</td>\n",
       "      <td>1.007899</td>\n",
       "      <td>1.019602</td>\n",
       "      <td>1.021075</td>\n",
       "      <td>0.981618</td>\n",
       "      <td>1.006168</td>\n",
       "      <td>0.965789</td>\n",
       "      <td>0.998615</td>\n",
       "      <td>0.990215</td>\n",
       "      <td>1.028957</td>\n",
       "      <td>...</td>\n",
       "      <td>0.992247</td>\n",
       "      <td>0.994276</td>\n",
       "      <td>1.022210</td>\n",
       "      <td>0.990007</td>\n",
       "      <td>1.004671</td>\n",
       "      <td>1.006992</td>\n",
       "      <td>1.024927</td>\n",
       "      <td>0.983636</td>\n",
       "      <td>0.990957</td>\n",
       "      <td>1.011268</td>\n",
       "    </tr>\n",
       "    <tr>\n",
       "      <th>...</th>\n",
       "      <td>...</td>\n",
       "      <td>...</td>\n",
       "      <td>...</td>\n",
       "      <td>...</td>\n",
       "      <td>...</td>\n",
       "      <td>...</td>\n",
       "      <td>...</td>\n",
       "      <td>...</td>\n",
       "      <td>...</td>\n",
       "      <td>...</td>\n",
       "      <td>...</td>\n",
       "      <td>...</td>\n",
       "      <td>...</td>\n",
       "      <td>...</td>\n",
       "      <td>...</td>\n",
       "      <td>...</td>\n",
       "      <td>...</td>\n",
       "      <td>...</td>\n",
       "      <td>...</td>\n",
       "      <td>...</td>\n",
       "      <td>...</td>\n",
       "    </tr>\n",
       "    <tr>\n",
       "      <th>7556</th>\n",
       "      <td>7.989312</td>\n",
       "      <td>19.279626</td>\n",
       "      <td>16.087697</td>\n",
       "      <td>4.319466</td>\n",
       "      <td>18.357231</td>\n",
       "      <td>3.853727</td>\n",
       "      <td>10.811954</td>\n",
       "      <td>7.616227</td>\n",
       "      <td>10.314062</td>\n",
       "      <td>17.815009</td>\n",
       "      <td>...</td>\n",
       "      <td>39.591385</td>\n",
       "      <td>5.983942</td>\n",
       "      <td>33.476087</td>\n",
       "      <td>27.380923</td>\n",
       "      <td>20.989920</td>\n",
       "      <td>12.921048</td>\n",
       "      <td>4.461471</td>\n",
       "      <td>4.756624</td>\n",
       "      <td>11.349815</td>\n",
       "      <td>25.551643</td>\n",
       "    </tr>\n",
       "    <tr>\n",
       "      <th>7557</th>\n",
       "      <td>8.128280</td>\n",
       "      <td>19.080081</td>\n",
       "      <td>15.810783</td>\n",
       "      <td>4.335474</td>\n",
       "      <td>18.479549</td>\n",
       "      <td>3.836636</td>\n",
       "      <td>10.570727</td>\n",
       "      <td>7.516446</td>\n",
       "      <td>10.338822</td>\n",
       "      <td>18.034065</td>\n",
       "      <td>...</td>\n",
       "      <td>39.733246</td>\n",
       "      <td>5.978684</td>\n",
       "      <td>33.583437</td>\n",
       "      <td>27.508989</td>\n",
       "      <td>20.910404</td>\n",
       "      <td>12.750891</td>\n",
       "      <td>4.472992</td>\n",
       "      <td>4.721524</td>\n",
       "      <td>11.323966</td>\n",
       "      <td>25.855278</td>\n",
       "    </tr>\n",
       "    <tr>\n",
       "      <th>7558</th>\n",
       "      <td>8.171385</td>\n",
       "      <td>19.119911</td>\n",
       "      <td>15.856817</td>\n",
       "      <td>4.353100</td>\n",
       "      <td>18.497288</td>\n",
       "      <td>3.830655</td>\n",
       "      <td>10.572245</td>\n",
       "      <td>7.470157</td>\n",
       "      <td>10.448255</td>\n",
       "      <td>18.135592</td>\n",
       "      <td>...</td>\n",
       "      <td>39.912748</td>\n",
       "      <td>5.956719</td>\n",
       "      <td>33.703866</td>\n",
       "      <td>27.721522</td>\n",
       "      <td>21.158164</td>\n",
       "      <td>12.636510</td>\n",
       "      <td>4.495629</td>\n",
       "      <td>4.743382</td>\n",
       "      <td>11.623331</td>\n",
       "      <td>25.903238</td>\n",
       "    </tr>\n",
       "    <tr>\n",
       "      <th>7559</th>\n",
       "      <td>8.144326</td>\n",
       "      <td>19.159979</td>\n",
       "      <td>15.671774</td>\n",
       "      <td>4.373533</td>\n",
       "      <td>18.410337</td>\n",
       "      <td>3.798908</td>\n",
       "      <td>10.426202</td>\n",
       "      <td>7.439809</td>\n",
       "      <td>10.466772</td>\n",
       "      <td>18.034080</td>\n",
       "      <td>...</td>\n",
       "      <td>40.026163</td>\n",
       "      <td>5.923969</td>\n",
       "      <td>33.958533</td>\n",
       "      <td>28.020830</td>\n",
       "      <td>20.966828</td>\n",
       "      <td>12.588382</td>\n",
       "      <td>4.477410</td>\n",
       "      <td>4.735826</td>\n",
       "      <td>11.675391</td>\n",
       "      <td>26.097205</td>\n",
       "    </tr>\n",
       "    <tr>\n",
       "      <th>7560</th>\n",
       "      <td>8.135045</td>\n",
       "      <td>19.266510</td>\n",
       "      <td>15.700322</td>\n",
       "      <td>4.394846</td>\n",
       "      <td>18.440424</td>\n",
       "      <td>3.764755</td>\n",
       "      <td>10.438565</td>\n",
       "      <td>7.398447</td>\n",
       "      <td>10.419659</td>\n",
       "      <td>18.076383</td>\n",
       "      <td>...</td>\n",
       "      <td>40.233474</td>\n",
       "      <td>5.941167</td>\n",
       "      <td>33.748137</td>\n",
       "      <td>27.842743</td>\n",
       "      <td>20.996062</td>\n",
       "      <td>12.727274</td>\n",
       "      <td>4.469348</td>\n",
       "      <td>4.741461</td>\n",
       "      <td>11.810347</td>\n",
       "      <td>26.078999</td>\n",
       "    </tr>\n",
       "  </tbody>\n",
       "</table>\n",
       "<p>7561 rows × 500 columns</p>\n",
       "</div>"
      ],
      "text/plain": [
       "           0          1          2         3          4         5    \\\n",
       "0     1.000000   1.000000   1.000000  1.000000   1.000000  1.000000   \n",
       "1     1.007414   1.011860   1.004088  1.007126   0.985556  1.013956   \n",
       "2     0.992458   1.012567   1.010335  1.015282   0.983631  1.015754   \n",
       "3     0.990399   1.018349   1.018383  1.015557   0.975545  1.011533   \n",
       "4     0.998665   1.007899   1.019602  1.021075   0.981618  1.006168   \n",
       "...        ...        ...        ...       ...        ...       ...   \n",
       "7556  7.989312  19.279626  16.087697  4.319466  18.357231  3.853727   \n",
       "7557  8.128280  19.080081  15.810783  4.335474  18.479549  3.836636   \n",
       "7558  8.171385  19.119911  15.856817  4.353100  18.497288  3.830655   \n",
       "7559  8.144326  19.159979  15.671774  4.373533  18.410337  3.798908   \n",
       "7560  8.135045  19.266510  15.700322  4.394846  18.440424  3.764755   \n",
       "\n",
       "            6         7          8          9    ...        490       491  \\\n",
       "0      1.000000  1.000000   1.000000   1.000000  ...   1.000000  1.000000   \n",
       "1      0.993129  1.004295   0.980130   1.008389  ...   0.998149  0.994660   \n",
       "2      0.982571  1.001629   0.975849   1.005289  ...   0.995170  0.984533   \n",
       "3      0.973436  1.010720   0.986917   1.020844  ...   0.997860  0.987806   \n",
       "4      0.965789  0.998615   0.990215   1.028957  ...   0.992247  0.994276   \n",
       "...         ...       ...        ...        ...  ...        ...       ...   \n",
       "7556  10.811954  7.616227  10.314062  17.815009  ...  39.591385  5.983942   \n",
       "7557  10.570727  7.516446  10.338822  18.034065  ...  39.733246  5.978684   \n",
       "7558  10.572245  7.470157  10.448255  18.135592  ...  39.912748  5.956719   \n",
       "7559  10.426202  7.439809  10.466772  18.034080  ...  40.026163  5.923969   \n",
       "7560  10.438565  7.398447  10.419659  18.076383  ...  40.233474  5.941167   \n",
       "\n",
       "            492        493        494        495       496       497  \\\n",
       "0      1.000000   1.000000   1.000000   1.000000  1.000000  1.000000   \n",
       "1      1.007937   0.988873   1.001144   1.010600  1.013796  0.990445   \n",
       "2      0.996557   0.996539   0.997182   0.998315  1.014943  0.984660   \n",
       "3      1.013052   0.989883   1.003703   1.001046  1.016764  0.979877   \n",
       "4      1.022210   0.990007   1.004671   1.006992  1.024927  0.983636   \n",
       "...         ...        ...        ...        ...       ...       ...   \n",
       "7556  33.476087  27.380923  20.989920  12.921048  4.461471  4.756624   \n",
       "7557  33.583437  27.508989  20.910404  12.750891  4.472992  4.721524   \n",
       "7558  33.703866  27.721522  21.158164  12.636510  4.495629  4.743382   \n",
       "7559  33.958533  28.020830  20.966828  12.588382  4.477410  4.735826   \n",
       "7560  33.748137  27.842743  20.996062  12.727274  4.469348  4.741461   \n",
       "\n",
       "            498        499  \n",
       "0      1.000000   1.000000  \n",
       "1      1.004569   1.001998  \n",
       "2      0.993472   0.998340  \n",
       "3      0.989755   1.009240  \n",
       "4      0.990957   1.011268  \n",
       "...         ...        ...  \n",
       "7556  11.349815  25.551643  \n",
       "7557  11.323966  25.855278  \n",
       "7558  11.623331  25.903238  \n",
       "7559  11.675391  26.097205  \n",
       "7560  11.810347  26.078999  \n",
       "\n",
       "[7561 rows x 500 columns]"
      ]
     },
     "metadata": {},
     "execution_count": 25
    }
   ],
   "metadata": {}
  },
  {
   "cell_type": "code",
   "execution_count": 26,
   "source": [
    "# Plot simulation outcomes\n",
    "line_plot = MC_thirty_year.plot_simulation()\n"
   ],
   "outputs": [
    {
     "output_type": "display_data",
     "data": {
      "image/png": "[encoded data removed]",
      "text/plain": [
       "<Figure size 432x288 with 1 Axes>"
      ]
     },
     "metadata": {
      "needs_background": "light"
     }
    }
   ],
   "metadata": {}
  },
  {
   "cell_type": "code",
   "execution_count": 27,
   "source": [
    "# Plot probability distribution and confidence intervals\n",
    "distribution_confidence_intervals_plot = MC_thirty_year.plot_distribution()\n"
   ],
   "outputs": [
    {
     "output_type": "display_data",
     "data": {
      "image/png": "[encoded data removed]",
      "text/plain": [
       "<Figure size 432x288 with 1 Axes>"
      ]
     },
     "metadata": {
      "needs_background": "light"
     }
    }
   ],
   "metadata": {}
  },
  {
   "cell_type": "markdown",
   "source": [
    "### Retirement Analysis"
   ],
   "metadata": {}
  },
  {
   "cell_type": "code",
   "execution_count": 30,
   "source": [
    "# Fetch summary statistics from the Monte Carlo simulation results\n",
    "summary_statistics = MC_thirty_year.summarize_cumulative_return()\n",
    "\n",
    "# Print summary statistics\n",
    "print(summary_statistics)"
   ],
   "outputs": [
    {
     "output_type": "stream",
     "name": "stdout",
     "text": [
      "count           500.000000\n",
      "mean             18.252166\n",
      "std              14.408015\n",
      "min               2.099047\n",
      "25%               8.775877\n",
      "50%              14.433757\n",
      "75%              22.505875\n",
      "max             135.130632\n",
      "95% CI Lower      3.803017\n",
      "95% CI Upper     54.156875\n",
      "Name: 7560, dtype: float64\n"
     ]
    }
   ],
   "metadata": {}
  },
  {
   "cell_type": "markdown",
   "source": [
    "### Calculate the expected portfolio return at the `95%` lower and upper confidence intervals based on a `$20,000` initial investment."
   ],
   "metadata": {}
  },
  {
   "cell_type": "code",
   "execution_count": 32,
   "source": [
    "# Set initial investment\n",
    "initial_investment = 20000\n",
    "\n",
    "# Use the lower and upper `95%` confidence intervals to calculate the range of the possible outcomes of our $20,000\n",
    "ci_lower = round(summary_statistics[8]*10000,2)\n",
    "ci_upper = round(summary_statistics[9]*10000,2)\n",
    "\n",
    "# Print results\n",
    "print(f\"There is a 95% chance that an initial investment of ${initial_investment} in the portfolio\"\n",
    "      f\" over the next 30 years will end within in the range of\"\n",
    "      f\" ${ci_lower} and ${ci_upper}\")"
   ],
   "outputs": [
    {
     "output_type": "stream",
     "name": "stdout",
     "text": [
      "There is a 95% chance that an initial investment of $20000 in the portfolio over the next 30 years will end within in the range of $38030.17 and $541568.75\n"
     ]
    }
   ],
   "metadata": {}
  },
  {
   "cell_type": "markdown",
   "source": [
    "### Calculate the expected portfolio return at the `95%` lower and upper confidence intervals based on a `50%` increase in the initial investment."
   ],
   "metadata": {}
  },
  {
   "cell_type": "code",
   "execution_count": 33,
   "source": [
    "# Set initial investment\n",
    "initial_investment = 20000 * 1.5\n",
    "\n",
    "# Use the lower and upper `95%` confidence intervals to calculate the range of the possible outcomes of our $30,000\n",
    "ci_lower = round(summary_statistics[8]*10000,2)\n",
    "ci_upper = round(summary_statistics[9]*10000,2)\n",
    "\n",
    "# Print results\n",
    "print(f\"There is a 95% chance that an initial investment of ${initial_investment} in the portfolio\"\n",
    "      f\" over the next 30 years will end within in the range of\"\n",
    "      f\" ${ci_lower} and ${ci_upper}\")"
   ],
   "outputs": [
    {
     "output_type": "stream",
     "name": "stdout",
     "text": [
      "There is a 95% chance that an initial investment of $30000.0 in the portfolio over the next 30 years will end within in the range of $38030.17 and $541568.75\n"
     ]
    }
   ],
   "metadata": {}
  },
  {
   "cell_type": "markdown",
   "source": [
    "## Optional Challenge - Early Retirement\n",
    "\n",
    "\n",
    "### Five Years Retirement Option"
   ],
   "metadata": {}
  },
  {
   "cell_type": "code",
   "execution_count": null,
   "source": [
    "# Configuring a Monte Carlo simulation to forecast 5 years cumulative returns\n",
    "# YOUR CODE HERE!"
   ],
   "outputs": [],
   "metadata": {}
  },
  {
   "cell_type": "code",
   "execution_count": null,
   "source": [
    "# Running a Monte Carlo simulation to forecast 5 years cumulative returns\n",
    "# YOUR CODE HERE!"
   ],
   "outputs": [],
   "metadata": {}
  },
  {
   "cell_type": "code",
   "execution_count": null,
   "source": [
    "# Plot simulation outcomes\n",
    "# YOUR CODE HERE!"
   ],
   "outputs": [],
   "metadata": {}
  },
  {
   "cell_type": "code",
   "execution_count": null,
   "source": [
    "# Plot probability distribution and confidence intervals\n",
    "# YOUR CODE HERE!"
   ],
   "outputs": [],
   "metadata": {}
  },
  {
   "cell_type": "code",
   "execution_count": null,
   "source": [
    "# Fetch summary statistics from the Monte Carlo simulation results\n",
    "# YOUR CODE HERE!\n",
    "\n",
    "# Print summary statistics\n",
    "# YOUR CODE HERE!"
   ],
   "outputs": [],
   "metadata": {}
  },
  {
   "cell_type": "code",
   "execution_count": null,
   "source": [
    "# Set initial investment\n",
    "# YOUR CODE HERE!\n",
    "\n",
    "# Use the lower and upper `95%` confidence intervals to calculate the range of the possible outcomes of our $60,000\n",
    "# YOUR CODE HERE!\n",
    "\n",
    "# Print results\n",
    "print(f\"There is a 95% chance that an initial investment of ${initial_investment} in the portfolio\"\n",
    "      f\" over the next 5 years will end within in the range of\"\n",
    "      f\" ${ci_lower_five} and ${ci_upper_five}\")"
   ],
   "outputs": [],
   "metadata": {}
  },
  {
   "cell_type": "markdown",
   "source": [
    "### Ten Years Retirement Option"
   ],
   "metadata": {}
  },
  {
   "cell_type": "code",
   "execution_count": null,
   "source": [
    "# Configuring a Monte Carlo simulation to forecast 10 years cumulative returns\n",
    "# YOUR CODE HERE!"
   ],
   "outputs": [],
   "metadata": {}
  },
  {
   "cell_type": "code",
   "execution_count": null,
   "source": [
    "# Running a Monte Carlo simulation to forecast 10 years cumulative returns\n",
    "# YOUR CODE HERE!"
   ],
   "outputs": [],
   "metadata": {}
  },
  {
   "cell_type": "code",
   "execution_count": null,
   "source": [
    "# Plot simulation outcomes\n",
    "# YOUR CODE HERE!"
   ],
   "outputs": [],
   "metadata": {}
  },
  {
   "cell_type": "code",
   "execution_count": null,
   "source": [
    "# Plot probability distribution and confidence intervals\n",
    "# YOUR CODE HERE!"
   ],
   "outputs": [],
   "metadata": {}
  },
  {
   "cell_type": "code",
   "execution_count": null,
   "source": [
    "# Fetch summary statistics from the Monte Carlo simulation results\n",
    "# YOUR CODE HERE!\n",
    "\n",
    "# Print summary statistics\n",
    "# YOUR CODE HERE!"
   ],
   "outputs": [],
   "metadata": {}
  },
  {
   "cell_type": "code",
   "execution_count": null,
   "source": [
    "# Set initial investment\n",
    "# YOUR CODE HERE!\n",
    "\n",
    "# Use the lower and upper `95%` confidence intervals to calculate the range of the possible outcomes of our $60,000\n",
    "# YOUR CODE HERE!\n",
    "\n",
    "# Print results\n",
    "print(f\"There is a 95% chance that an initial investment of ${initial_investment} in the portfolio\"\n",
    "      f\" over the next 10 years will end within in the range of\"\n",
    "      f\" ${ci_lower_ten} and ${ci_upper_ten}\")"
   ],
   "outputs": [],
   "metadata": {}
  },
  {
   "cell_type": "code",
   "execution_count": null,
   "source": [],
   "outputs": [],
   "metadata": {}
  }
 ],
 "metadata": {
  "kernelspec": {
   "name": "python3",
   "display_name": "Python 3.8.8 64-bit ('Fintech': conda)"
  },
  "language_info": {
   "codemirror_mode": {
    "name": "ipython",
    "version": 3
   },
   "file_extension": ".py",
   "mimetype": "text/x-python",
   "name": "python",
   "nbconvert_exporter": "python",
   "pygments_lexer": "ipython3",
   "version": "3.8.8"
  },
  "nteract": {
   "version": "0.28.0"
  },
  "interpreter": {
   "hash": "7f0626b54536aa544c2c8dd43ed749957c16be6f7fed118917640ae8dc24df94"
  }
 },
 "nbformat": 4,
 "nbformat_minor": 4
}