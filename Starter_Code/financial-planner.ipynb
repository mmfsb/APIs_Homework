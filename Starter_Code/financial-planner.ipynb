{
 "cells": [
  {
   "cell_type": "markdown",
   "source": [
    "# Unit 5 - Financial Planning"
   ],
   "metadata": {}
  },
  {
   "cell_type": "code",
   "execution_count": 2,
   "source": [
    "# Initial imports\n",
    "import os\n",
    "import requests\n",
    "import pandas as pd\n",
    "from dotenv import load_dotenv\n",
    "import alpaca_trade_api as tradeapi\n",
    "from MCForecastTools import MCSimulation\n",
    "import json\n",
    "\n",
    "%matplotlib inline"
   ],
   "outputs": [],
   "metadata": {}
  },
  {
   "cell_type": "code",
   "execution_count": 3,
   "source": [
    "# Load .env enviroment variables\n",
    "load_dotenv()"
   ],
   "outputs": [
    {
     "output_type": "execute_result",
     "data": {
      "text/plain": [
       "True"
      ]
     },
     "metadata": {},
     "execution_count": 3
    }
   ],
   "metadata": {}
  },
  {
   "cell_type": "markdown",
   "source": [
    "## Part 1 - Personal Finance Planner"
   ],
   "metadata": {}
  },
  {
   "cell_type": "markdown",
   "source": [
    "### Collect Crypto Prices Using the `requests` Library"
   ],
   "metadata": {}
  },
  {
   "cell_type": "code",
   "execution_count": 4,
   "source": [
    "# Set current amount of crypto assets\n",
    "my_btc = 1.2\n",
    "my_eth = 5.3"
   ],
   "outputs": [],
   "metadata": {}
  },
  {
   "cell_type": "code",
   "execution_count": 5,
   "source": [
    "# Crypto API URLs\n",
    "btc_url = \"https://api.alternative.me/v2/ticker/Bitcoin/?convert=CAD\"\n",
    "eth_url = \"https://api.alternative.me/v2/ticker/Ethereum/?convert=CAD\""
   ],
   "outputs": [],
   "metadata": {}
  },
  {
   "cell_type": "code",
   "execution_count": 6,
   "source": [
    "# Executing get requests for btc and format to json\n",
    "btc_response = requests.get(btc_url).json()\n",
    "\n",
    "# Executing get requests for eth and format to json\n",
    "eth_response = requests.get(eth_url).json()"
   ],
   "outputs": [],
   "metadata": {}
  },
  {
   "cell_type": "code",
   "execution_count": 7,
   "source": [
    "print(json.dumps(btc_response, indent=4))"
   ],
   "outputs": [
    {
     "output_type": "stream",
     "name": "stdout",
     "text": [
      "{\n",
      "    \"data\": {\n",
      "        \"1\": {\n",
      "            \"id\": 1,\n",
      "            \"name\": \"Bitcoin\",\n",
      "            \"symbol\": \"BTC\",\n",
      "            \"website_slug\": \"bitcoin\",\n",
      "            \"rank\": 1,\n",
      "            \"circulating_supply\": 18831593,\n",
      "            \"total_supply\": 18831593,\n",
      "            \"max_supply\": 21000000,\n",
      "            \"quotes\": {\n",
      "                \"USD\": {\n",
      "                    \"price\": 47731.0,\n",
      "                    \"volume_24h\": 41010612564,\n",
      "                    \"market_cap\": 898856463921,\n",
      "                    \"percentage_change_1h\": 0.431378942637967,\n",
      "                    \"percentage_change_24h\": 9.68819284060512,\n",
      "                    \"percentage_change_7d\": 6.11460529743948,\n",
      "                    \"percent_change_1h\": 0.431378942637967,\n",
      "                    \"percent_change_24h\": 9.68819284060512,\n",
      "                    \"percent_change_7d\": 6.11460529743948\n",
      "                },\n",
      "                \"CAD\": {\n",
      "                    \"price\": 60322.4378,\n",
      "                    \"volume_24h\": 51829212158.3832,\n",
      "                    \"market_cap\": 1135974799103.36,\n",
      "                    \"percent_change_1h\": 0.431378942637967,\n",
      "                    \"percent_change_24h\": 9.68819284060512,\n",
      "                    \"percent_change_7d\": 6.11460529743948\n",
      "                }\n",
      "            },\n",
      "            \"last_updated\": 1633111147\n",
      "        }\n",
      "    },\n",
      "    \"metadata\": {\n",
      "        \"timestamp\": 1633111147,\n",
      "        \"num_cryptocurrencies\": 3105,\n",
      "        \"error\": null\n",
      "    }\n",
      "}\n"
     ]
    }
   ],
   "metadata": {}
  },
  {
   "cell_type": "code",
   "execution_count": 8,
   "source": [
    "print(json.dumps(eth_response, indent=4))"
   ],
   "outputs": [
    {
     "output_type": "stream",
     "name": "stdout",
     "text": [
      "{\n",
      "    \"data\": {\n",
      "        \"1027\": {\n",
      "            \"id\": 1027,\n",
      "            \"name\": \"Ethereum\",\n",
      "            \"symbol\": \"ETH\",\n",
      "            \"website_slug\": \"ethereum\",\n",
      "            \"rank\": 2,\n",
      "            \"circulating_supply\": 117752289,\n",
      "            \"total_supply\": 117752289,\n",
      "            \"max_supply\": 0,\n",
      "            \"quotes\": {\n",
      "                \"USD\": {\n",
      "                    \"price\": 3285.4,\n",
      "                    \"volume_24h\": 23761972259,\n",
      "                    \"market_cap\": 386536408795,\n",
      "                    \"percentage_change_1h\": 0.549237596513402,\n",
      "                    \"percentage_change_24h\": 9.20779326963591,\n",
      "                    \"percentage_change_7d\": 3.99238094156669,\n",
      "                    \"percent_change_1h\": 0.549237596513402,\n",
      "                    \"percent_change_24h\": 9.20779326963591,\n",
      "                    \"percent_change_7d\": 3.99238094156669\n",
      "                },\n",
      "                \"CAD\": {\n",
      "                    \"price\": 4152.08852,\n",
      "                    \"volume_24h\": 30030380540.9242,\n",
      "                    \"market_cap\": 488504713435.121,\n",
      "                    \"percent_change_1h\": 0.549237596513402,\n",
      "                    \"percent_change_24h\": 9.20779326963591,\n",
      "                    \"percent_change_7d\": 3.99238094156669\n",
      "                }\n",
      "            },\n",
      "            \"last_updated\": 1633111163\n",
      "        }\n",
      "    },\n",
      "    \"metadata\": {\n",
      "        \"timestamp\": 1633111163,\n",
      "        \"num_cryptocurrencies\": 3105,\n",
      "        \"error\": null\n",
      "    }\n",
      "}\n"
     ]
    }
   ],
   "metadata": {}
  },
  {
   "cell_type": "code",
   "execution_count": 9,
   "source": [
    "# Fetch current BTC price\n",
    "btc_price = btc_response[\"data\"][\"1\"][\"quotes\"][\"USD\"][\"price\"]\n",
    "# Fetch current ETH price\n",
    "eth_price = eth_response[\"data\"][\"1027\"][\"quotes\"][\"USD\"][\"price\"]\n",
    "\n",
    "\n",
    "# Compute current value of my crpto\n",
    "my_btc_value = my_btc * btc_price\n",
    "my_eth_value = my_eth * eth_price\n",
    "\n",
    "# Print current crypto wallet balance\n",
    "print(f\"The current value of your {my_btc} BTC is ${my_btc_value:0.2f}\")\n",
    "print(f\"The current value of your {my_eth} ETH is ${my_eth_value:0.2f}\")"
   ],
   "outputs": [
    {
     "output_type": "stream",
     "name": "stdout",
     "text": [
      "The current value of your 1.2 BTC is $57277.20\n",
      "The current value of your 5.3 ETH is $17412.62\n"
     ]
    }
   ],
   "metadata": {}
  },
  {
   "cell_type": "markdown",
   "source": [
    "### Collect Investments Data Using Alpaca: `SPY` (stocks) and `AGG` (bonds)"
   ],
   "metadata": {}
  },
  {
   "cell_type": "code",
   "execution_count": 10,
   "source": [
    "# Set current amount of shares\n",
    "my_agg = 200\n",
    "my_spy = 50"
   ],
   "outputs": [],
   "metadata": {}
  },
  {
   "cell_type": "code",
   "execution_count": 11,
   "source": [
    "# Set Alpaca API key and secret\n",
    "alpaca_api_key = os.getenv(\"ALPACA_API_KEY\")\n",
    "alpaca_secret_key = os.getenv(\"ALPACA_SECRET_KEY\")\n",
    "\n",
    "# Create the Alpaca API object\n",
    "api = tradeapi.REST(\n",
    "    alpaca_api_key,\n",
    "    alpaca_secret_key,\n",
    "    api_version = \"v2\"\n",
    ")"
   ],
   "outputs": [],
   "metadata": {}
  },
  {
   "cell_type": "code",
   "execution_count": 12,
   "source": [
    "# Verify keys and secret key\n",
    "print(type(alpaca_api_key))\n",
    "print(type(alpaca_secret_key))"
   ],
   "outputs": [
    {
     "output_type": "stream",
     "name": "stdout",
     "text": [
      "<class 'str'>\n",
      "<class 'str'>\n"
     ]
    }
   ],
   "metadata": {}
  },
  {
   "cell_type": "code",
   "execution_count": 13,
   "source": [
    "# Format current date as ISO format\n",
    "today = pd.Timestamp(\"2021-09-29\", tz=\"America/New_York\").isoformat()\n",
    "\n",
    "# Set the tickers\n",
    "tickers = [\"AGG\", \"SPY\"]\n",
    "\n",
    "# Set timeframe to '1D' for Alpaca API\n",
    "timeframe = \"1D\"\n",
    "\n",
    "# Get current closing prices for SPY and AGG\n",
    "# (use a limit=1000 parameter to call the most recent 1000 days of data)\n",
    "current_closing_price = api.get_barset(\n",
    "    tickers,\n",
    "    timeframe,\n",
    "    start=today,\n",
    "    end=today,\n",
    "    limit=1000,\n",
    ").df\n",
    "\n",
    "# Preview DataFrame\n",
    "current_closing_price.head()"
   ],
   "outputs": [
    {
     "output_type": "execute_result",
     "data": {
      "text/html": [
       "<div>\n",
       "<style scoped>\n",
       "    .dataframe tbody tr th:only-of-type {\n",
       "        vertical-align: middle;\n",
       "    }\n",
       "\n",
       "    .dataframe tbody tr th {\n",
       "        vertical-align: top;\n",
       "    }\n",
       "\n",
       "    .dataframe thead tr th {\n",
       "        text-align: left;\n",
       "    }\n",
       "\n",
       "    .dataframe thead tr:last-of-type th {\n",
       "        text-align: right;\n",
       "    }\n",
       "</style>\n",
       "<table border=\"1\" class=\"dataframe\">\n",
       "  <thead>\n",
       "    <tr>\n",
       "      <th></th>\n",
       "      <th colspan=\"5\" halign=\"left\">AGG</th>\n",
       "      <th colspan=\"5\" halign=\"left\">SPY</th>\n",
       "    </tr>\n",
       "    <tr>\n",
       "      <th></th>\n",
       "      <th>open</th>\n",
       "      <th>high</th>\n",
       "      <th>low</th>\n",
       "      <th>close</th>\n",
       "      <th>volume</th>\n",
       "      <th>open</th>\n",
       "      <th>high</th>\n",
       "      <th>low</th>\n",
       "      <th>close</th>\n",
       "      <th>volume</th>\n",
       "    </tr>\n",
       "    <tr>\n",
       "      <th>time</th>\n",
       "      <th></th>\n",
       "      <th></th>\n",
       "      <th></th>\n",
       "      <th></th>\n",
       "      <th></th>\n",
       "      <th></th>\n",
       "      <th></th>\n",
       "      <th></th>\n",
       "      <th></th>\n",
       "      <th></th>\n",
       "    </tr>\n",
       "  </thead>\n",
       "  <tbody>\n",
       "    <tr>\n",
       "      <th>2021-09-29 00:00:00-04:00</th>\n",
       "      <td>114.97</td>\n",
       "      <td>115.06</td>\n",
       "      <td>114.715</td>\n",
       "      <td>114.85</td>\n",
       "      <td>5099586</td>\n",
       "      <td>435.19</td>\n",
       "      <td>437.04</td>\n",
       "      <td>433.85</td>\n",
       "      <td>434.44</td>\n",
       "      <td>69828191</td>\n",
       "    </tr>\n",
       "  </tbody>\n",
       "</table>\n",
       "</div>"
      ],
      "text/plain": [
       "                              AGG                                       SPY  \\\n",
       "                             open    high      low   close   volume    open   \n",
       "time                                                                          \n",
       "2021-09-29 00:00:00-04:00  114.97  115.06  114.715  114.85  5099586  435.19   \n",
       "\n",
       "                                                             \n",
       "                             high     low   close    volume  \n",
       "time                                                         \n",
       "2021-09-29 00:00:00-04:00  437.04  433.85  434.44  69828191  "
      ]
     },
     "metadata": {},
     "execution_count": 13
    }
   ],
   "metadata": {}
  },
  {
   "cell_type": "code",
   "execution_count": 14,
   "source": [
    "# Pick AGG and SPY close prices\n",
    "agg_close_price = float(current_closing_price[\"AGG\"][\"close\"])\n",
    "spy_close_price = float(current_closing_price[\"SPY\"][\"close\"])\n",
    "# Print AGG and SPY close prices\n",
    "print(f\"Current AGG closing price: ${agg_close_price}\")\n",
    "print(f\"Current SPY closing price: ${spy_close_price}\")"
   ],
   "outputs": [
    {
     "output_type": "stream",
     "name": "stdout",
     "text": [
      "Current AGG closing price: $114.85\n",
      "Current SPY closing price: $434.44\n"
     ]
    }
   ],
   "metadata": {}
  },
  {
   "cell_type": "code",
   "execution_count": 15,
   "source": [
    "# Compute the current value of shares\n",
    "my_agg_value = my_agg * agg_close_price\n",
    "my_spy_value = my_spy * spy_close_price\n",
    "\n",
    "# Print current value of shares\n",
    "print(f\"The current value of your {my_spy} SPY shares is ${my_spy_value:0.2f}\")\n",
    "print(f\"The current value of your {my_agg} AGG shares is ${my_agg_value:0.2f}\")"
   ],
   "outputs": [
    {
     "output_type": "stream",
     "name": "stdout",
     "text": [
      "The current value of your 50 SPY shares is $21722.00\n",
      "The current value of your 200 AGG shares is $22970.00\n"
     ]
    }
   ],
   "metadata": {}
  },
  {
   "cell_type": "markdown",
   "source": [
    "### Savings Health Analysis"
   ],
   "metadata": {}
  },
  {
   "cell_type": "code",
   "execution_count": 16,
   "source": [
    "# Set monthly household income\n",
    "monthly_household_income = 12000"
   ],
   "outputs": [],
   "metadata": {}
  },
  {
   "cell_type": "code",
   "execution_count": 17,
   "source": [
    "# Consolidate financial assets data\n",
    "total_crypto = my_btc_value + my_eth_value\n",
    "total_investments = my_agg_value + my_spy_value\n",
    "consolidate_assets = total_crypto + total_investments\n",
    "\n",
    "print(f\"The consolidated financial asset is worth ${consolidate_assets:0.2f}\")"
   ],
   "outputs": [
    {
     "output_type": "stream",
     "name": "stdout",
     "text": [
      "The consolidated financial asset is worth $119381.82\n"
     ]
    }
   ],
   "metadata": {}
  },
  {
   "cell_type": "code",
   "execution_count": 18,
   "source": [
    "# Create savings DataFrame\n",
    "data = [total_crypto, total_investments]\n",
    "\n",
    "df_savings = pd.DataFrame(data, index =[\"crypto\", \"shares\"],columns =[\"Amount\"])\n",
    "\n",
    "# Display savings DataFrame\n",
    "display(df_savings)"
   ],
   "outputs": [
    {
     "output_type": "display_data",
     "data": {
      "text/html": [
       "<div>\n",
       "<style scoped>\n",
       "    .dataframe tbody tr th:only-of-type {\n",
       "        vertical-align: middle;\n",
       "    }\n",
       "\n",
       "    .dataframe tbody tr th {\n",
       "        vertical-align: top;\n",
       "    }\n",
       "\n",
       "    .dataframe thead th {\n",
       "        text-align: right;\n",
       "    }\n",
       "</style>\n",
       "<table border=\"1\" class=\"dataframe\">\n",
       "  <thead>\n",
       "    <tr style=\"text-align: right;\">\n",
       "      <th></th>\n",
       "      <th>Amount</th>\n",
       "    </tr>\n",
       "  </thead>\n",
       "  <tbody>\n",
       "    <tr>\n",
       "      <th>crypto</th>\n",
       "      <td>74689.82</td>\n",
       "    </tr>\n",
       "    <tr>\n",
       "      <th>shares</th>\n",
       "      <td>44692.00</td>\n",
       "    </tr>\n",
       "  </tbody>\n",
       "</table>\n",
       "</div>"
      ],
      "text/plain": [
       "          Amount\n",
       "crypto  74689.82\n",
       "shares  44692.00"
      ]
     },
     "metadata": {}
    }
   ],
   "metadata": {}
  },
  {
   "cell_type": "code",
   "execution_count": 19,
   "source": [
    "# Plot savings pie chart\n",
    "\n",
    "df_savings.plot(kind=\"pie\", subplots=True)"
   ],
   "outputs": [
    {
     "output_type": "execute_result",
     "data": {
      "text/plain": [
       "array([<AxesSubplot:ylabel='Amount'>], dtype=object)"
      ]
     },
     "metadata": {},
     "execution_count": 19
    },
    {
     "output_type": "display_data",
     "data": {
      "image/png": "[encoded data removed]",
      "text/plain": [
       "<Figure size 432x288 with 1 Axes>"
      ]
     },
     "metadata": {}
    }
   ],
   "metadata": {}
  },
  {
   "cell_type": "code",
   "execution_count": 20,
   "source": [
    "# Set ideal emergency fund\n",
    "emergency_fund = monthly_household_income  * 3\n",
    "print(f\"The total amount in the emergency fund is ${emergency_fund}\")\n",
    "\n",
    "# Calculate total amount of savings\n",
    "print(f\"The total amount of savings is ${consolidate_assets:0.2f}\")"
   ],
   "outputs": [
    {
     "output_type": "stream",
     "name": "stdout",
     "text": [
      "The total amount in the emergency fund is $36000\n",
      "The total amount of savings is $119381.82\n"
     ]
    }
   ],
   "metadata": {}
  },
  {
   "cell_type": "code",
   "execution_count": 21,
   "source": [
    "# Validate saving health\n",
    "if consolidate_assets > emergency_fund:\n",
    "   print(\"Congrats! You have a gracious amount of money in your emergency fund. You are on your way to becoming the next Bruce Wayne\")\n",
    "elif consolidate_assets == emergency_fund:\n",
    "   print(\"Congrats! You reached your financial goal, yay!\")\n",
    "else:\n",
    "   print(f\"You are ${consolidate_assets - emergency_fund} dollars away from reaching your goal. Keep eating those ramen noodles. nom nom nom\")\n"
   ],
   "outputs": [
    {
     "output_type": "stream",
     "name": "stdout",
     "text": [
      "Congrats! You have a gracious amount of money in your emergency fund. You are on your way to becoming the next Bruce Wayne\n"
     ]
    }
   ],
   "metadata": {}
  },
  {
   "cell_type": "markdown",
   "source": [
    "## Part 2 - Retirement Planning\n",
    "\n",
    "### Monte Carlo Simulation"
   ],
   "metadata": {}
  },
  {
   "cell_type": "code",
   "execution_count": 22,
   "source": [
    "# Set start and end dates of five years back from today.\n",
    "# Sample results may vary from the solution based on the time frame chosen\n",
    "start_date = pd.Timestamp('2016-10-01', tz='America/New_York').isoformat()\n",
    "end_date = pd.Timestamp('2021-10-01', tz='America/New_York').isoformat()"
   ],
   "outputs": [],
   "metadata": {}
  },
  {
   "cell_type": "code",
   "execution_count": 23,
   "source": [
    "# Get 5 years' worth of historical data for SPY and AGG\n",
    "# (use a limit=1000 parameter to call the most recent 1000 days of data)\n",
    "tickers = [\"AGG\", \"SPY\"]\n",
    "df_stock_data = api.get_barset(\n",
    "    tickers,\n",
    "    timeframe,\n",
    "    start=start_date,\n",
    "    end=end_date,\n",
    "    limit=1000,\n",
    ").df\n",
    "\n",
    "# Display sample data\n",
    "df_stock_data.head()"
   ],
   "outputs": [
    {
     "output_type": "execute_result",
     "data": {
      "text/html": [
       "<div>\n",
       "<style scoped>\n",
       "    .dataframe tbody tr th:only-of-type {\n",
       "        vertical-align: middle;\n",
       "    }\n",
       "\n",
       "    .dataframe tbody tr th {\n",
       "        vertical-align: top;\n",
       "    }\n",
       "\n",
       "    .dataframe thead tr th {\n",
       "        text-align: left;\n",
       "    }\n",
       "\n",
       "    .dataframe thead tr:last-of-type th {\n",
       "        text-align: right;\n",
       "    }\n",
       "</style>\n",
       "<table border=\"1\" class=\"dataframe\">\n",
       "  <thead>\n",
       "    <tr>\n",
       "      <th></th>\n",
       "      <th colspan=\"5\" halign=\"left\">AGG</th>\n",
       "      <th colspan=\"5\" halign=\"left\">SPY</th>\n",
       "    </tr>\n",
       "    <tr>\n",
       "      <th></th>\n",
       "      <th>open</th>\n",
       "      <th>high</th>\n",
       "      <th>low</th>\n",
       "      <th>close</th>\n",
       "      <th>volume</th>\n",
       "      <th>open</th>\n",
       "      <th>high</th>\n",
       "      <th>low</th>\n",
       "      <th>close</th>\n",
       "      <th>volume</th>\n",
       "    </tr>\n",
       "    <tr>\n",
       "      <th>time</th>\n",
       "      <th></th>\n",
       "      <th></th>\n",
       "      <th></th>\n",
       "      <th></th>\n",
       "      <th></th>\n",
       "      <th></th>\n",
       "      <th></th>\n",
       "      <th></th>\n",
       "      <th></th>\n",
       "      <th></th>\n",
       "    </tr>\n",
       "  </thead>\n",
       "  <tbody>\n",
       "    <tr>\n",
       "      <th>2017-10-11 00:00:00-04:00</th>\n",
       "      <td>109.47</td>\n",
       "      <td>109.53</td>\n",
       "      <td>109.42</td>\n",
       "      <td>109.47</td>\n",
       "      <td>1576528.0</td>\n",
       "      <td>NaN</td>\n",
       "      <td>NaN</td>\n",
       "      <td>NaN</td>\n",
       "      <td>NaN</td>\n",
       "      <td>NaN</td>\n",
       "    </tr>\n",
       "    <tr>\n",
       "      <th>2017-10-12 00:00:00-04:00</th>\n",
       "      <td>109.56</td>\n",
       "      <td>109.61</td>\n",
       "      <td>109.48</td>\n",
       "      <td>109.61</td>\n",
       "      <td>1797948.0</td>\n",
       "      <td>254.66</td>\n",
       "      <td>255.06</td>\n",
       "      <td>254.365</td>\n",
       "      <td>254.60</td>\n",
       "      <td>32195167.0</td>\n",
       "    </tr>\n",
       "    <tr>\n",
       "      <th>2017-10-13 00:00:00-04:00</th>\n",
       "      <td>109.82</td>\n",
       "      <td>109.87</td>\n",
       "      <td>109.69</td>\n",
       "      <td>109.85</td>\n",
       "      <td>1573645.0</td>\n",
       "      <td>255.14</td>\n",
       "      <td>255.27</td>\n",
       "      <td>254.640</td>\n",
       "      <td>254.91</td>\n",
       "      <td>33563533.0</td>\n",
       "    </tr>\n",
       "    <tr>\n",
       "      <th>2017-10-16 00:00:00-04:00</th>\n",
       "      <td>109.75</td>\n",
       "      <td>109.81</td>\n",
       "      <td>109.66</td>\n",
       "      <td>109.74</td>\n",
       "      <td>3556213.0</td>\n",
       "      <td>255.21</td>\n",
       "      <td>255.51</td>\n",
       "      <td>254.820</td>\n",
       "      <td>255.30</td>\n",
       "      <td>25720677.0</td>\n",
       "    </tr>\n",
       "    <tr>\n",
       "      <th>2017-10-17 00:00:00-04:00</th>\n",
       "      <td>109.62</td>\n",
       "      <td>109.74</td>\n",
       "      <td>109.55</td>\n",
       "      <td>109.70</td>\n",
       "      <td>1638086.0</td>\n",
       "      <td>255.24</td>\n",
       "      <td>255.52</td>\n",
       "      <td>254.980</td>\n",
       "      <td>255.46</td>\n",
       "      <td>23608473.0</td>\n",
       "    </tr>\n",
       "  </tbody>\n",
       "</table>\n",
       "</div>"
      ],
      "text/plain": [
       "                              AGG                                        SPY  \\\n",
       "                             open    high     low   close     volume    open   \n",
       "time                                                                           \n",
       "2017-10-11 00:00:00-04:00  109.47  109.53  109.42  109.47  1576528.0     NaN   \n",
       "2017-10-12 00:00:00-04:00  109.56  109.61  109.48  109.61  1797948.0  254.66   \n",
       "2017-10-13 00:00:00-04:00  109.82  109.87  109.69  109.85  1573645.0  255.14   \n",
       "2017-10-16 00:00:00-04:00  109.75  109.81  109.66  109.74  3556213.0  255.21   \n",
       "2017-10-17 00:00:00-04:00  109.62  109.74  109.55  109.70  1638086.0  255.24   \n",
       "\n",
       "                                                                \n",
       "                             high      low   close      volume  \n",
       "time                                                            \n",
       "2017-10-11 00:00:00-04:00     NaN      NaN     NaN         NaN  \n",
       "2017-10-12 00:00:00-04:00  255.06  254.365  254.60  32195167.0  \n",
       "2017-10-13 00:00:00-04:00  255.27  254.640  254.91  33563533.0  \n",
       "2017-10-16 00:00:00-04:00  255.51  254.820  255.30  25720677.0  \n",
       "2017-10-17 00:00:00-04:00  255.52  254.980  255.46  23608473.0  "
      ]
     },
     "metadata": {},
     "execution_count": 23
    }
   ],
   "metadata": {}
  },
  {
   "cell_type": "code",
   "execution_count": 24,
   "source": [
    "# Configuring a Monte Carlo simulation to forecast 30 years cumulative returns\n",
    "MC_thirty_year = MCSimulation(\n",
    "    portfolio_data = df_stock_data,\n",
    "    weights = [.40,.60],\n",
    "    num_simulation = 500,\n",
    "    num_trading_days = 252*30\n",
    ")\n",
    "#use the Alpaca API to fetch five years historical closing prices \n",
    "#for a traditional `40/60` portfolio using the `SPY` and `AGG` \n",
    "# tickers to represent the `60%` stocks (`SPY`) and `40%` bonds (`AGG`) \n",
    "# composition of the portfolio. Make sure to convert the API output \n",
    "# to a DataFrame and preview the output."
   ],
   "outputs": [],
   "metadata": {}
  },
  {
   "cell_type": "code",
   "execution_count": 25,
   "source": [
    "# Printing the simulation input data\n",
    "MC_thirty_year.portfolio_data.head()"
   ],
   "outputs": [
    {
     "output_type": "execute_result",
     "data": {
      "text/html": [
       "<div>\n",
       "<style scoped>\n",
       "    .dataframe tbody tr th:only-of-type {\n",
       "        vertical-align: middle;\n",
       "    }\n",
       "\n",
       "    .dataframe tbody tr th {\n",
       "        vertical-align: top;\n",
       "    }\n",
       "\n",
       "    .dataframe thead tr th {\n",
       "        text-align: left;\n",
       "    }\n",
       "\n",
       "    .dataframe thead tr:last-of-type th {\n",
       "        text-align: right;\n",
       "    }\n",
       "</style>\n",
       "<table border=\"1\" class=\"dataframe\">\n",
       "  <thead>\n",
       "    <tr>\n",
       "      <th></th>\n",
       "      <th colspan=\"6\" halign=\"left\">AGG</th>\n",
       "      <th colspan=\"6\" halign=\"left\">SPY</th>\n",
       "    </tr>\n",
       "    <tr>\n",
       "      <th></th>\n",
       "      <th>open</th>\n",
       "      <th>high</th>\n",
       "      <th>low</th>\n",
       "      <th>close</th>\n",
       "      <th>volume</th>\n",
       "      <th>daily_return</th>\n",
       "      <th>open</th>\n",
       "      <th>high</th>\n",
       "      <th>low</th>\n",
       "      <th>close</th>\n",
       "      <th>volume</th>\n",
       "      <th>daily_return</th>\n",
       "    </tr>\n",
       "    <tr>\n",
       "      <th>time</th>\n",
       "      <th></th>\n",
       "      <th></th>\n",
       "      <th></th>\n",
       "      <th></th>\n",
       "      <th></th>\n",
       "      <th></th>\n",
       "      <th></th>\n",
       "      <th></th>\n",
       "      <th></th>\n",
       "      <th></th>\n",
       "      <th></th>\n",
       "      <th></th>\n",
       "    </tr>\n",
       "  </thead>\n",
       "  <tbody>\n",
       "    <tr>\n",
       "      <th>2017-10-11 00:00:00-04:00</th>\n",
       "      <td>109.47</td>\n",
       "      <td>109.53</td>\n",
       "      <td>109.42</td>\n",
       "      <td>109.47</td>\n",
       "      <td>1576528.0</td>\n",
       "      <td>NaN</td>\n",
       "      <td>NaN</td>\n",
       "      <td>NaN</td>\n",
       "      <td>NaN</td>\n",
       "      <td>NaN</td>\n",
       "      <td>NaN</td>\n",
       "      <td>NaN</td>\n",
       "    </tr>\n",
       "    <tr>\n",
       "      <th>2017-10-12 00:00:00-04:00</th>\n",
       "      <td>109.56</td>\n",
       "      <td>109.61</td>\n",
       "      <td>109.48</td>\n",
       "      <td>109.61</td>\n",
       "      <td>1797948.0</td>\n",
       "      <td>0.001279</td>\n",
       "      <td>254.66</td>\n",
       "      <td>255.06</td>\n",
       "      <td>254.365</td>\n",
       "      <td>254.60</td>\n",
       "      <td>32195167.0</td>\n",
       "      <td>NaN</td>\n",
       "    </tr>\n",
       "    <tr>\n",
       "      <th>2017-10-13 00:00:00-04:00</th>\n",
       "      <td>109.82</td>\n",
       "      <td>109.87</td>\n",
       "      <td>109.69</td>\n",
       "      <td>109.85</td>\n",
       "      <td>1573645.0</td>\n",
       "      <td>0.002190</td>\n",
       "      <td>255.14</td>\n",
       "      <td>255.27</td>\n",
       "      <td>254.640</td>\n",
       "      <td>254.91</td>\n",
       "      <td>33563533.0</td>\n",
       "      <td>0.001218</td>\n",
       "    </tr>\n",
       "    <tr>\n",
       "      <th>2017-10-16 00:00:00-04:00</th>\n",
       "      <td>109.75</td>\n",
       "      <td>109.81</td>\n",
       "      <td>109.66</td>\n",
       "      <td>109.74</td>\n",
       "      <td>3556213.0</td>\n",
       "      <td>-0.001001</td>\n",
       "      <td>255.21</td>\n",
       "      <td>255.51</td>\n",
       "      <td>254.820</td>\n",
       "      <td>255.30</td>\n",
       "      <td>25720677.0</td>\n",
       "      <td>0.001530</td>\n",
       "    </tr>\n",
       "    <tr>\n",
       "      <th>2017-10-17 00:00:00-04:00</th>\n",
       "      <td>109.62</td>\n",
       "      <td>109.74</td>\n",
       "      <td>109.55</td>\n",
       "      <td>109.70</td>\n",
       "      <td>1638086.0</td>\n",
       "      <td>-0.000364</td>\n",
       "      <td>255.24</td>\n",
       "      <td>255.52</td>\n",
       "      <td>254.980</td>\n",
       "      <td>255.46</td>\n",
       "      <td>23608473.0</td>\n",
       "      <td>0.000627</td>\n",
       "    </tr>\n",
       "  </tbody>\n",
       "</table>\n",
       "</div>"
      ],
      "text/plain": [
       "                              AGG                                     \\\n",
       "                             open    high     low   close     volume   \n",
       "time                                                                   \n",
       "2017-10-11 00:00:00-04:00  109.47  109.53  109.42  109.47  1576528.0   \n",
       "2017-10-12 00:00:00-04:00  109.56  109.61  109.48  109.61  1797948.0   \n",
       "2017-10-13 00:00:00-04:00  109.82  109.87  109.69  109.85  1573645.0   \n",
       "2017-10-16 00:00:00-04:00  109.75  109.81  109.66  109.74  3556213.0   \n",
       "2017-10-17 00:00:00-04:00  109.62  109.74  109.55  109.70  1638086.0   \n",
       "\n",
       "                                           SPY                           \\\n",
       "                          daily_return    open    high      low   close   \n",
       "time                                                                      \n",
       "2017-10-11 00:00:00-04:00          NaN     NaN     NaN      NaN     NaN   \n",
       "2017-10-12 00:00:00-04:00     0.001279  254.66  255.06  254.365  254.60   \n",
       "2017-10-13 00:00:00-04:00     0.002190  255.14  255.27  254.640  254.91   \n",
       "2017-10-16 00:00:00-04:00    -0.001001  255.21  255.51  254.820  255.30   \n",
       "2017-10-17 00:00:00-04:00    -0.000364  255.24  255.52  254.980  255.46   \n",
       "\n",
       "                                                    \n",
       "                               volume daily_return  \n",
       "time                                                \n",
       "2017-10-11 00:00:00-04:00         NaN          NaN  \n",
       "2017-10-12 00:00:00-04:00  32195167.0          NaN  \n",
       "2017-10-13 00:00:00-04:00  33563533.0     0.001218  \n",
       "2017-10-16 00:00:00-04:00  25720677.0     0.001530  \n",
       "2017-10-17 00:00:00-04:00  23608473.0     0.000627  "
      ]
     },
     "metadata": {},
     "execution_count": 25
    }
   ],
   "metadata": {}
  },
  {
   "cell_type": "code",
   "execution_count": 27,
   "source": [
    "# Running a Monte Carlo simulation to forecast 30 years cumulative returns\n",
    "MC_thirty_year.calc_cumulative_return()"
   ],
   "outputs": [
    {
     "output_type": "stream",
     "name": "stdout",
     "text": [
      "Running Monte Carlo simulation number 0.\n",
      "Running Monte Carlo simulation number 10.\n",
      "Running Monte Carlo simulation number 20.\n",
      "Running Monte Carlo simulation number 30.\n",
      "Running Monte Carlo simulation number 40.\n",
      "Running Monte Carlo simulation number 50.\n",
      "Running Monte Carlo simulation number 60.\n",
      "Running Monte Carlo simulation number 70.\n",
      "Running Monte Carlo simulation number 80.\n",
      "Running Monte Carlo simulation number 90.\n",
      "Running Monte Carlo simulation number 100.\n",
      "Running Monte Carlo simulation number 110.\n",
      "Running Monte Carlo simulation number 120.\n",
      "Running Monte Carlo simulation number 130.\n",
      "Running Monte Carlo simulation number 140.\n",
      "Running Monte Carlo simulation number 150.\n",
      "Running Monte Carlo simulation number 160.\n",
      "Running Monte Carlo simulation number 170.\n",
      "Running Monte Carlo simulation number 180.\n",
      "Running Monte Carlo simulation number 190.\n",
      "Running Monte Carlo simulation number 200.\n",
      "Running Monte Carlo simulation number 210.\n",
      "Running Monte Carlo simulation number 220.\n",
      "Running Monte Carlo simulation number 230.\n",
      "Running Monte Carlo simulation number 240.\n",
      "Running Monte Carlo simulation number 250.\n",
      "Running Monte Carlo simulation number 260.\n",
      "Running Monte Carlo simulation number 270.\n",
      "Running Monte Carlo simulation number 280.\n",
      "Running Monte Carlo simulation number 290.\n",
      "Running Monte Carlo simulation number 300.\n",
      "Running Monte Carlo simulation number 310.\n",
      "Running Monte Carlo simulation number 320.\n",
      "Running Monte Carlo simulation number 330.\n",
      "Running Monte Carlo simulation number 340.\n",
      "Running Monte Carlo simulation number 350.\n",
      "Running Monte Carlo simulation number 360.\n",
      "Running Monte Carlo simulation number 370.\n",
      "Running Monte Carlo simulation number 380.\n",
      "Running Monte Carlo simulation number 390.\n",
      "Running Monte Carlo simulation number 400.\n",
      "Running Monte Carlo simulation number 410.\n",
      "Running Monte Carlo simulation number 420.\n",
      "Running Monte Carlo simulation number 430.\n",
      "Running Monte Carlo simulation number 440.\n",
      "Running Monte Carlo simulation number 450.\n",
      "Running Monte Carlo simulation number 460.\n",
      "Running Monte Carlo simulation number 470.\n",
      "Running Monte Carlo simulation number 480.\n",
      "Running Monte Carlo simulation number 490.\n"
     ]
    },
    {
     "output_type": "execute_result",
     "data": {
      "text/html": [
       "<div>\n",
       "<style scoped>\n",
       "    .dataframe tbody tr th:only-of-type {\n",
       "        vertical-align: middle;\n",
       "    }\n",
       "\n",
       "    .dataframe tbody tr th {\n",
       "        vertical-align: top;\n",
       "    }\n",
       "\n",
       "    .dataframe thead th {\n",
       "        text-align: right;\n",
       "    }\n",
       "</style>\n",
       "<table border=\"1\" class=\"dataframe\">\n",
       "  <thead>\n",
       "    <tr style=\"text-align: right;\">\n",
       "      <th></th>\n",
       "      <th>0</th>\n",
       "      <th>1</th>\n",
       "      <th>2</th>\n",
       "      <th>3</th>\n",
       "      <th>4</th>\n",
       "      <th>5</th>\n",
       "      <th>6</th>\n",
       "      <th>7</th>\n",
       "      <th>8</th>\n",
       "      <th>9</th>\n",
       "      <th>...</th>\n",
       "      <th>490</th>\n",
       "      <th>491</th>\n",
       "      <th>492</th>\n",
       "      <th>493</th>\n",
       "      <th>494</th>\n",
       "      <th>495</th>\n",
       "      <th>496</th>\n",
       "      <th>497</th>\n",
       "      <th>498</th>\n",
       "      <th>499</th>\n",
       "    </tr>\n",
       "  </thead>\n",
       "  <tbody>\n",
       "    <tr>\n",
       "      <th>0</th>\n",
       "      <td>1.000000</td>\n",
       "      <td>1.000000</td>\n",
       "      <td>1.000000</td>\n",
       "      <td>1.000000</td>\n",
       "      <td>1.000000</td>\n",
       "      <td>1.000000</td>\n",
       "      <td>1.000000</td>\n",
       "      <td>1.000000</td>\n",
       "      <td>1.000000</td>\n",
       "      <td>1.000000</td>\n",
       "      <td>...</td>\n",
       "      <td>1.000000</td>\n",
       "      <td>1.000000</td>\n",
       "      <td>1.000000</td>\n",
       "      <td>1.000000</td>\n",
       "      <td>1.000000</td>\n",
       "      <td>1.000000</td>\n",
       "      <td>1.000000</td>\n",
       "      <td>1.000000</td>\n",
       "      <td>1.000000</td>\n",
       "      <td>1.000000</td>\n",
       "    </tr>\n",
       "    <tr>\n",
       "      <th>1</th>\n",
       "      <td>1.011633</td>\n",
       "      <td>1.010765</td>\n",
       "      <td>0.995587</td>\n",
       "      <td>1.021025</td>\n",
       "      <td>0.999667</td>\n",
       "      <td>0.991934</td>\n",
       "      <td>0.991091</td>\n",
       "      <td>1.000449</td>\n",
       "      <td>1.001910</td>\n",
       "      <td>1.003416</td>\n",
       "      <td>...</td>\n",
       "      <td>0.992721</td>\n",
       "      <td>1.001770</td>\n",
       "      <td>0.993324</td>\n",
       "      <td>0.999045</td>\n",
       "      <td>0.996221</td>\n",
       "      <td>0.997832</td>\n",
       "      <td>1.002643</td>\n",
       "      <td>1.013559</td>\n",
       "      <td>0.998947</td>\n",
       "      <td>1.003053</td>\n",
       "    </tr>\n",
       "    <tr>\n",
       "      <th>2</th>\n",
       "      <td>1.024222</td>\n",
       "      <td>1.011581</td>\n",
       "      <td>0.992235</td>\n",
       "      <td>1.017691</td>\n",
       "      <td>0.995402</td>\n",
       "      <td>0.993563</td>\n",
       "      <td>0.975617</td>\n",
       "      <td>1.016977</td>\n",
       "      <td>0.998350</td>\n",
       "      <td>0.999891</td>\n",
       "      <td>...</td>\n",
       "      <td>1.001593</td>\n",
       "      <td>1.004698</td>\n",
       "      <td>0.991027</td>\n",
       "      <td>0.991261</td>\n",
       "      <td>0.994614</td>\n",
       "      <td>1.002375</td>\n",
       "      <td>1.004115</td>\n",
       "      <td>1.006433</td>\n",
       "      <td>0.993548</td>\n",
       "      <td>1.001776</td>\n",
       "    </tr>\n",
       "    <tr>\n",
       "      <th>3</th>\n",
       "      <td>1.026761</td>\n",
       "      <td>1.014841</td>\n",
       "      <td>0.995143</td>\n",
       "      <td>1.016390</td>\n",
       "      <td>0.987810</td>\n",
       "      <td>1.004904</td>\n",
       "      <td>0.980137</td>\n",
       "      <td>1.035298</td>\n",
       "      <td>0.998808</td>\n",
       "      <td>1.005939</td>\n",
       "      <td>...</td>\n",
       "      <td>1.010169</td>\n",
       "      <td>1.003256</td>\n",
       "      <td>1.010711</td>\n",
       "      <td>1.007652</td>\n",
       "      <td>1.007017</td>\n",
       "      <td>0.998778</td>\n",
       "      <td>1.000977</td>\n",
       "      <td>1.014231</td>\n",
       "      <td>0.996984</td>\n",
       "      <td>0.999370</td>\n",
       "    </tr>\n",
       "    <tr>\n",
       "      <th>4</th>\n",
       "      <td>1.017332</td>\n",
       "      <td>1.010868</td>\n",
       "      <td>0.992909</td>\n",
       "      <td>0.996770</td>\n",
       "      <td>0.981444</td>\n",
       "      <td>0.994913</td>\n",
       "      <td>0.983925</td>\n",
       "      <td>1.027552</td>\n",
       "      <td>1.010962</td>\n",
       "      <td>1.007874</td>\n",
       "      <td>...</td>\n",
       "      <td>1.009429</td>\n",
       "      <td>1.013555</td>\n",
       "      <td>1.012599</td>\n",
       "      <td>1.009717</td>\n",
       "      <td>1.015386</td>\n",
       "      <td>1.000904</td>\n",
       "      <td>1.003029</td>\n",
       "      <td>1.023374</td>\n",
       "      <td>0.993028</td>\n",
       "      <td>0.997249</td>\n",
       "    </tr>\n",
       "    <tr>\n",
       "      <th>...</th>\n",
       "      <td>...</td>\n",
       "      <td>...</td>\n",
       "      <td>...</td>\n",
       "      <td>...</td>\n",
       "      <td>...</td>\n",
       "      <td>...</td>\n",
       "      <td>...</td>\n",
       "      <td>...</td>\n",
       "      <td>...</td>\n",
       "      <td>...</td>\n",
       "      <td>...</td>\n",
       "      <td>...</td>\n",
       "      <td>...</td>\n",
       "      <td>...</td>\n",
       "      <td>...</td>\n",
       "      <td>...</td>\n",
       "      <td>...</td>\n",
       "      <td>...</td>\n",
       "      <td>...</td>\n",
       "      <td>...</td>\n",
       "      <td>...</td>\n",
       "    </tr>\n",
       "    <tr>\n",
       "      <th>7556</th>\n",
       "      <td>4.779346</td>\n",
       "      <td>39.627089</td>\n",
       "      <td>29.780237</td>\n",
       "      <td>20.049084</td>\n",
       "      <td>28.323968</td>\n",
       "      <td>26.860926</td>\n",
       "      <td>6.444450</td>\n",
       "      <td>9.253676</td>\n",
       "      <td>4.950317</td>\n",
       "      <td>12.312968</td>\n",
       "      <td>...</td>\n",
       "      <td>28.702744</td>\n",
       "      <td>19.517509</td>\n",
       "      <td>23.345089</td>\n",
       "      <td>19.969576</td>\n",
       "      <td>20.920816</td>\n",
       "      <td>16.687320</td>\n",
       "      <td>12.782259</td>\n",
       "      <td>8.215191</td>\n",
       "      <td>7.925772</td>\n",
       "      <td>9.394310</td>\n",
       "    </tr>\n",
       "    <tr>\n",
       "      <th>7557</th>\n",
       "      <td>4.751055</td>\n",
       "      <td>39.974438</td>\n",
       "      <td>29.965075</td>\n",
       "      <td>19.943395</td>\n",
       "      <td>28.312229</td>\n",
       "      <td>26.912450</td>\n",
       "      <td>6.472659</td>\n",
       "      <td>9.327151</td>\n",
       "      <td>4.963918</td>\n",
       "      <td>12.420971</td>\n",
       "      <td>...</td>\n",
       "      <td>28.874503</td>\n",
       "      <td>19.403007</td>\n",
       "      <td>23.149293</td>\n",
       "      <td>20.035681</td>\n",
       "      <td>20.638559</td>\n",
       "      <td>16.859115</td>\n",
       "      <td>12.725478</td>\n",
       "      <td>8.212067</td>\n",
       "      <td>7.882988</td>\n",
       "      <td>9.439334</td>\n",
       "    </tr>\n",
       "    <tr>\n",
       "      <th>7558</th>\n",
       "      <td>4.729236</td>\n",
       "      <td>39.805137</td>\n",
       "      <td>30.176261</td>\n",
       "      <td>19.791020</td>\n",
       "      <td>28.384280</td>\n",
       "      <td>27.068961</td>\n",
       "      <td>6.488413</td>\n",
       "      <td>9.413788</td>\n",
       "      <td>4.981201</td>\n",
       "      <td>12.432336</td>\n",
       "      <td>...</td>\n",
       "      <td>28.854936</td>\n",
       "      <td>19.598888</td>\n",
       "      <td>23.012659</td>\n",
       "      <td>19.962202</td>\n",
       "      <td>20.736464</td>\n",
       "      <td>16.871931</td>\n",
       "      <td>12.804269</td>\n",
       "      <td>8.082897</td>\n",
       "      <td>7.918462</td>\n",
       "      <td>9.490468</td>\n",
       "    </tr>\n",
       "    <tr>\n",
       "      <th>7559</th>\n",
       "      <td>4.752152</td>\n",
       "      <td>39.642246</td>\n",
       "      <td>30.354803</td>\n",
       "      <td>20.010331</td>\n",
       "      <td>28.562102</td>\n",
       "      <td>26.784681</td>\n",
       "      <td>6.489550</td>\n",
       "      <td>9.418131</td>\n",
       "      <td>4.971126</td>\n",
       "      <td>12.574628</td>\n",
       "      <td>...</td>\n",
       "      <td>29.441327</td>\n",
       "      <td>19.587324</td>\n",
       "      <td>23.070790</td>\n",
       "      <td>20.197532</td>\n",
       "      <td>20.538893</td>\n",
       "      <td>16.869694</td>\n",
       "      <td>12.803936</td>\n",
       "      <td>8.065234</td>\n",
       "      <td>7.957041</td>\n",
       "      <td>9.435566</td>\n",
       "    </tr>\n",
       "    <tr>\n",
       "      <th>7560</th>\n",
       "      <td>4.825237</td>\n",
       "      <td>40.341616</td>\n",
       "      <td>30.110756</td>\n",
       "      <td>20.160366</td>\n",
       "      <td>28.218200</td>\n",
       "      <td>26.924186</td>\n",
       "      <td>6.543429</td>\n",
       "      <td>9.515040</td>\n",
       "      <td>4.960275</td>\n",
       "      <td>12.599871</td>\n",
       "      <td>...</td>\n",
       "      <td>29.656520</td>\n",
       "      <td>19.317026</td>\n",
       "      <td>23.099557</td>\n",
       "      <td>20.274962</td>\n",
       "      <td>20.485296</td>\n",
       "      <td>17.052279</td>\n",
       "      <td>12.927403</td>\n",
       "      <td>8.159363</td>\n",
       "      <td>7.928810</td>\n",
       "      <td>9.445889</td>\n",
       "    </tr>\n",
       "  </tbody>\n",
       "</table>\n",
       "<p>7561 rows × 500 columns</p>\n",
       "</div>"
      ],
      "text/plain": [
       "           0          1          2          3          4          5    \\\n",
       "0     1.000000   1.000000   1.000000   1.000000   1.000000   1.000000   \n",
       "1     1.011633   1.010765   0.995587   1.021025   0.999667   0.991934   \n",
       "2     1.024222   1.011581   0.992235   1.017691   0.995402   0.993563   \n",
       "3     1.026761   1.014841   0.995143   1.016390   0.987810   1.004904   \n",
       "4     1.017332   1.010868   0.992909   0.996770   0.981444   0.994913   \n",
       "...        ...        ...        ...        ...        ...        ...   \n",
       "7556  4.779346  39.627089  29.780237  20.049084  28.323968  26.860926   \n",
       "7557  4.751055  39.974438  29.965075  19.943395  28.312229  26.912450   \n",
       "7558  4.729236  39.805137  30.176261  19.791020  28.384280  27.068961   \n",
       "7559  4.752152  39.642246  30.354803  20.010331  28.562102  26.784681   \n",
       "7560  4.825237  40.341616  30.110756  20.160366  28.218200  26.924186   \n",
       "\n",
       "           6         7         8          9    ...        490        491  \\\n",
       "0     1.000000  1.000000  1.000000   1.000000  ...   1.000000   1.000000   \n",
       "1     0.991091  1.000449  1.001910   1.003416  ...   0.992721   1.001770   \n",
       "2     0.975617  1.016977  0.998350   0.999891  ...   1.001593   1.004698   \n",
       "3     0.980137  1.035298  0.998808   1.005939  ...   1.010169   1.003256   \n",
       "4     0.983925  1.027552  1.010962   1.007874  ...   1.009429   1.013555   \n",
       "...        ...       ...       ...        ...  ...        ...        ...   \n",
       "7556  6.444450  9.253676  4.950317  12.312968  ...  28.702744  19.517509   \n",
       "7557  6.472659  9.327151  4.963918  12.420971  ...  28.874503  19.403007   \n",
       "7558  6.488413  9.413788  4.981201  12.432336  ...  28.854936  19.598888   \n",
       "7559  6.489550  9.418131  4.971126  12.574628  ...  29.441327  19.587324   \n",
       "7560  6.543429  9.515040  4.960275  12.599871  ...  29.656520  19.317026   \n",
       "\n",
       "            492        493        494        495        496       497  \\\n",
       "0      1.000000   1.000000   1.000000   1.000000   1.000000  1.000000   \n",
       "1      0.993324   0.999045   0.996221   0.997832   1.002643  1.013559   \n",
       "2      0.991027   0.991261   0.994614   1.002375   1.004115  1.006433   \n",
       "3      1.010711   1.007652   1.007017   0.998778   1.000977  1.014231   \n",
       "4      1.012599   1.009717   1.015386   1.000904   1.003029  1.023374   \n",
       "...         ...        ...        ...        ...        ...       ...   \n",
       "7556  23.345089  19.969576  20.920816  16.687320  12.782259  8.215191   \n",
       "7557  23.149293  20.035681  20.638559  16.859115  12.725478  8.212067   \n",
       "7558  23.012659  19.962202  20.736464  16.871931  12.804269  8.082897   \n",
       "7559  23.070790  20.197532  20.538893  16.869694  12.803936  8.065234   \n",
       "7560  23.099557  20.274962  20.485296  17.052279  12.927403  8.159363   \n",
       "\n",
       "           498       499  \n",
       "0     1.000000  1.000000  \n",
       "1     0.998947  1.003053  \n",
       "2     0.993548  1.001776  \n",
       "3     0.996984  0.999370  \n",
       "4     0.993028  0.997249  \n",
       "...        ...       ...  \n",
       "7556  7.925772  9.394310  \n",
       "7557  7.882988  9.439334  \n",
       "7558  7.918462  9.490468  \n",
       "7559  7.957041  9.435566  \n",
       "7560  7.928810  9.445889  \n",
       "\n",
       "[7561 rows x 500 columns]"
      ]
     },
     "metadata": {},
     "execution_count": 27
    }
   ],
   "metadata": {}
  },
  {
   "cell_type": "code",
   "execution_count": 28,
   "source": [
    "# Plot simulation outcomes\n",
    "line_plot = MC_thirty_year.plot_simulation()\n"
   ],
   "outputs": [
    {
     "output_type": "display_data",
     "data": {
      "image/png": "[encoded data removed]",
      "text/plain": [
       "<Figure size 432x288 with 1 Axes>"
      ]
     },
     "metadata": {
      "needs_background": "light"
     }
    }
   ],
   "metadata": {}
  },
  {
   "cell_type": "code",
   "execution_count": 29,
   "source": [
    "# Plot probability distribution and confidence intervals\n",
    "distribution_confidence_intervals_plot = MC_thirty_year.plot_distribution()\n"
   ],
   "outputs": [
    {
     "output_type": "display_data",
     "data": {
      "image/png": "[encoded data removed]",
      "text/plain": [
       "<Figure size 432x288 with 1 Axes>"
      ]
     },
     "metadata": {
      "needs_background": "light"
     }
    }
   ],
   "metadata": {}
  },
  {
   "cell_type": "markdown",
   "source": [
    "### Retirement Analysis"
   ],
   "metadata": {}
  },
  {
   "cell_type": "code",
   "execution_count": 30,
   "source": [
    "# Fetch summary statistics from the Monte Carlo simulation results\n",
    "summary_statistics = MC_thirty_year.summarize_cumulative_return()\n",
    "\n",
    "# Print summary statistics\n",
    "print(summary_statistics)"
   ],
   "outputs": [
    {
     "output_type": "stream",
     "name": "stdout",
     "text": [
      "count           500.000000\n",
      "mean             19.504282\n",
      "std              14.270039\n",
      "min               1.752836\n",
      "25%               9.371454\n",
      "50%              16.198293\n",
      "75%              24.280503\n",
      "max              89.896033\n",
      "95% CI Lower      4.000202\n",
      "95% CI Upper     59.492426\n",
      "Name: 7560, dtype: float64\n"
     ]
    }
   ],
   "metadata": {}
  },
  {
   "cell_type": "markdown",
   "source": [
    "### Calculate the expected portfolio return at the `95%` lower and upper confidence intervals based on a `$20,000` initial investment."
   ],
   "metadata": {}
  },
  {
   "cell_type": "code",
   "execution_count": 31,
   "source": [
    "# Set initial investment\n",
    "initial_investment = 20000\n",
    "\n",
    "# Use the lower and upper `95%` confidence intervals to calculate the range of the possible outcomes of our $20,000\n",
    "ci_lower = round(summary_statistics[8]*10000,2)\n",
    "ci_upper = round(summary_statistics[9]*10000,2)\n",
    "\n",
    "# Print results\n",
    "print(f\"There is a 95% chance that an initial investment of ${initial_investment} in the portfolio\"\n",
    "      f\" over the next 30 years will end within in the range of\"\n",
    "      f\" ${ci_lower} and ${ci_upper}\")"
   ],
   "outputs": [
    {
     "output_type": "stream",
     "name": "stdout",
     "text": [
      "There is a 95% chance that an initial investment of $20000 in the portfolio over the next 30 years will end within in the range of $40002.02 and $594924.26\n"
     ]
    }
   ],
   "metadata": {}
  },
  {
   "cell_type": "markdown",
   "source": [
    "### Calculate the expected portfolio return at the `95%` lower and upper confidence intervals based on a `50%` increase in the initial investment."
   ],
   "metadata": {}
  },
  {
   "cell_type": "code",
   "execution_count": 32,
   "source": [
    "# Set initial investment\n",
    "initial_investment = 20000 * 1.5\n",
    "\n",
    "# Use the lower and upper `95%` confidence intervals to calculate the range of the possible outcomes of our $30,000\n",
    "increase50_ci_lower = round(summary_statistics[8]*10000,2)\n",
    "increase50_ci_upper = round(summary_statistics[9]*10000,2)\n",
    "\n",
    "# Print results\n",
    "print(f\"There is a 95% chance that an initial investment of ${initial_investment} in the portfolio\"\n",
    "      f\" over the next 30 years will end within in the range of\"\n",
    "      f\" ${increase50_ci_lower} and ${increase50_ci_upper}\")"
   ],
   "outputs": [
    {
     "output_type": "stream",
     "name": "stdout",
     "text": [
      "There is a 95% chance that an initial investment of $30000.0 in the portfolio over the next 30 years will end within in the range of $40002.02 and $594924.26\n"
     ]
    }
   ],
   "metadata": {}
  },
  {
   "cell_type": "markdown",
   "source": [
    "## Optional Challenge - Early Retirement\n",
    "\n",
    "\n",
    "### Five Years Retirement Option"
   ],
   "metadata": {}
  },
  {
   "cell_type": "code",
   "execution_count": null,
   "source": [
    "# Configuring a Monte Carlo simulation to forecast 5 years cumulative returns\n",
    "# YOUR CODE HERE!"
   ],
   "outputs": [],
   "metadata": {}
  },
  {
   "cell_type": "code",
   "execution_count": null,
   "source": [
    "# Running a Monte Carlo simulation to forecast 5 years cumulative returns\n",
    "# YOUR CODE HERE!"
   ],
   "outputs": [],
   "metadata": {}
  },
  {
   "cell_type": "code",
   "execution_count": null,
   "source": [
    "# Plot simulation outcomes\n",
    "# YOUR CODE HERE!"
   ],
   "outputs": [],
   "metadata": {}
  },
  {
   "cell_type": "code",
   "execution_count": null,
   "source": [
    "# Plot probability distribution and confidence intervals\n",
    "# YOUR CODE HERE!"
   ],
   "outputs": [],
   "metadata": {}
  },
  {
   "cell_type": "code",
   "execution_count": null,
   "source": [
    "# Fetch summary statistics from the Monte Carlo simulation results\n",
    "# YOUR CODE HERE!\n",
    "\n",
    "# Print summary statistics\n",
    "# YOUR CODE HERE!"
   ],
   "outputs": [],
   "metadata": {}
  },
  {
   "cell_type": "code",
   "execution_count": null,
   "source": [
    "# Set initial investment\n",
    "# YOUR CODE HERE!\n",
    "\n",
    "# Use the lower and upper `95%` confidence intervals to calculate the range of the possible outcomes of our $60,000\n",
    "# YOUR CODE HERE!\n",
    "\n",
    "# Print results\n",
    "print(f\"There is a 95% chance that an initial investment of ${initial_investment} in the portfolio\"\n",
    "      f\" over the next 5 years will end within in the range of\"\n",
    "      f\" ${ci_lower_five} and ${ci_upper_five}\")"
   ],
   "outputs": [],
   "metadata": {}
  },
  {
   "cell_type": "markdown",
   "source": [
    "### Ten Years Retirement Option"
   ],
   "metadata": {}
  },
  {
   "cell_type": "code",
   "execution_count": null,
   "source": [
    "# Configuring a Monte Carlo simulation to forecast 10 years cumulative returns\n",
    "# YOUR CODE HERE!"
   ],
   "outputs": [],
   "metadata": {}
  },
  {
   "cell_type": "code",
   "execution_count": null,
   "source": [
    "# Running a Monte Carlo simulation to forecast 10 years cumulative returns\n",
    "# YOUR CODE HERE!"
   ],
   "outputs": [],
   "metadata": {}
  },
  {
   "cell_type": "code",
   "execution_count": null,
   "source": [
    "# Plot simulation outcomes\n",
    "# YOUR CODE HERE!"
   ],
   "outputs": [],
   "metadata": {}
  },
  {
   "cell_type": "code",
   "execution_count": null,
   "source": [
    "# Plot probability distribution and confidence intervals\n",
    "# YOUR CODE HERE!"
   ],
   "outputs": [],
   "metadata": {}
  },
  {
   "cell_type": "code",
   "execution_count": null,
   "source": [
    "# Fetch summary statistics from the Monte Carlo simulation results\n",
    "# YOUR CODE HERE!\n",
    "\n",
    "# Print summary statistics\n",
    "# YOUR CODE HERE!"
   ],
   "outputs": [],
   "metadata": {}
  },
  {
   "cell_type": "code",
   "execution_count": null,
   "source": [
    "# Set initial investment\n",
    "# YOUR CODE HERE!\n",
    "\n",
    "# Use the lower and upper `95%` confidence intervals to calculate the range of the possible outcomes of our $60,000\n",
    "# YOUR CODE HERE!\n",
    "\n",
    "# Print results\n",
    "print(f\"There is a 95% chance that an initial investment of ${initial_investment} in the portfolio\"\n",
    "      f\" over the next 10 years will end within in the range of\"\n",
    "      f\" ${ci_lower_ten} and ${ci_upper_ten}\")"
   ],
   "outputs": [],
   "metadata": {}
  },
  {
   "cell_type": "code",
   "execution_count": null,
   "source": [],
   "outputs": [],
   "metadata": {}
  }
 ],
 "metadata": {
  "kernelspec": {
   "name": "python3",
   "display_name": "Python 3.8.8 64-bit ('Fintech': conda)"
  },
  "language_info": {
   "codemirror_mode": {
    "name": "ipython",
    "version": 3
   },
   "file_extension": ".py",
   "mimetype": "text/x-python",
   "name": "python",
   "nbconvert_exporter": "python",
   "pygments_lexer": "ipython3",
   "version": "3.8.8"
  },
  "nteract": {
   "version": "0.28.0"
  },
  "interpreter": {
   "hash": "7f0626b54536aa544c2c8dd43ed749957c16be6f7fed118917640ae8dc24df94"
  }
 },
 "nbformat": 4,
 "nbformat_minor": 4
}