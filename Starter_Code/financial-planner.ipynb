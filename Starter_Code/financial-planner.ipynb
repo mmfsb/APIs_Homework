{
 "cells": [
  {
   "cell_type": "markdown",
   "source": [
    "# Unit 5 - Financial Planning"
   ],
   "metadata": {}
  },
  {
   "cell_type": "code",
   "execution_count": 52,
   "source": [
    "# Initial imports\n",
    "import os\n",
    "import requests\n",
    "import pandas as pd\n",
    "from dotenv import load_dotenv\n",
    "import alpaca_trade_api as tradeapi\n",
    "from MCForecastTools import MCSimulation\n",
    "import json\n",
    "\n",
    "%matplotlib inline"
   ],
   "outputs": [],
   "metadata": {}
  },
  {
   "cell_type": "code",
   "execution_count": 53,
   "source": [
    "# Load .env enviroment variables\n",
    "load_dotenv()"
   ],
   "outputs": [
    {
     "output_type": "execute_result",
     "data": {
      "text/plain": [
       "True"
      ]
     },
     "metadata": {},
     "execution_count": 53
    }
   ],
   "metadata": {}
  },
  {
   "cell_type": "markdown",
   "source": [
    "## Part 1 - Personal Finance Planner"
   ],
   "metadata": {}
  },
  {
   "cell_type": "markdown",
   "source": [
    "### Collect Crypto Prices Using the `requests` Library"
   ],
   "metadata": {}
  },
  {
   "cell_type": "code",
   "execution_count": 54,
   "source": [
    "# Set current amount of crypto assets\n",
    "my_btc = 1.2\n",
    "my_eth = 5.3"
   ],
   "outputs": [],
   "metadata": {}
  },
  {
   "cell_type": "code",
   "execution_count": 55,
   "source": [
    "# Crypto API URLs\n",
    "btc_url = \"https://api.alternative.me/v2/ticker/Bitcoin/?convert=CAD\"\n",
    "eth_url = \"https://api.alternative.me/v2/ticker/Ethereum/?convert=CAD\""
   ],
   "outputs": [],
   "metadata": {}
  },
  {
   "cell_type": "code",
   "execution_count": 56,
   "source": [
    "# Executing get requests for btc and format to json\n",
    "btc_response = requests.get(btc_url).json()\n",
    "\n",
    "# Executing get requests for eth and format to json\n",
    "eth_response = requests.get(eth_url).json()"
   ],
   "outputs": [],
   "metadata": {}
  },
  {
   "cell_type": "code",
   "execution_count": 57,
   "source": [
    "print(json.dumps(btc_response, indent=4))"
   ],
   "outputs": [
    {
     "output_type": "stream",
     "name": "stdout",
     "text": [
      "{\n",
      "    \"data\": {\n",
      "        \"1\": {\n",
      "            \"id\": 1,\n",
      "            \"name\": \"Bitcoin\",\n",
      "            \"symbol\": \"BTC\",\n",
      "            \"website_slug\": \"bitcoin\",\n",
      "            \"rank\": 1,\n",
      "            \"circulating_supply\": 18831181,\n",
      "            \"total_supply\": 18831181,\n",
      "            \"max_supply\": 21000000,\n",
      "            \"quotes\": {\n",
      "                \"USD\": {\n",
      "                    \"price\": 43679.0,\n",
      "                    \"volume_24h\": 27442220070,\n",
      "                    \"market_cap\": 821853946774,\n",
      "                    \"percentage_change_1h\": -0.132327447777258,\n",
      "                    \"percentage_change_24h\": 0.103101818909173,\n",
      "                    \"percentage_change_7d\": -2.89366458889998,\n",
      "                    \"percent_change_1h\": -0.132327447777258,\n",
      "                    \"percent_change_24h\": 0.103101818909173,\n",
      "                    \"percent_change_7d\": -2.89366458889998\n",
      "                },\n",
      "                \"CAD\": {\n",
      "                    \"price\": 55555.3201,\n",
      "                    \"volume_24h\": 34903759707.033,\n",
      "                    \"market_cap\": 1045316034901.85,\n",
      "                    \"percent_change_1h\": -0.132327447777258,\n",
      "                    \"percent_change_24h\": 0.103101818909173,\n",
      "                    \"percent_change_7d\": -2.89366458889998\n",
      "                }\n",
      "            },\n",
      "            \"last_updated\": 1633064613\n",
      "        }\n",
      "    },\n",
      "    \"metadata\": {\n",
      "        \"timestamp\": 1633064613,\n",
      "        \"num_cryptocurrencies\": 3105,\n",
      "        \"error\": null\n",
      "    }\n",
      "}\n"
     ]
    }
   ],
   "metadata": {}
  },
  {
   "cell_type": "code",
   "execution_count": 58,
   "source": [
    "print(json.dumps(eth_response, indent=4))"
   ],
   "outputs": [
    {
     "output_type": "stream",
     "name": "stdout",
     "text": [
      "{\n",
      "    \"data\": {\n",
      "        \"1027\": {\n",
      "            \"id\": 1027,\n",
      "            \"name\": \"Ethereum\",\n",
      "            \"symbol\": \"ETH\",\n",
      "            \"website_slug\": \"ethereum\",\n",
      "            \"rank\": 2,\n",
      "            \"circulating_supply\": 117744961,\n",
      "            \"total_supply\": 117744961,\n",
      "            \"max_supply\": 0,\n",
      "            \"quotes\": {\n",
      "                \"USD\": {\n",
      "                    \"price\": 3006.66,\n",
      "                    \"volume_24h\": 17299147175,\n",
      "                    \"market_cap\": 353793778098,\n",
      "                    \"percentage_change_1h\": -0.182978587003936,\n",
      "                    \"percentage_change_24h\": -0.684224946232336,\n",
      "                    \"percentage_change_7d\": -4.83061139292298,\n",
      "                    \"percent_change_1h\": -0.182978587003936,\n",
      "                    \"percent_change_24h\": -0.684224946232336,\n",
      "                    \"percent_change_7d\": -4.83061139292298\n",
      "                },\n",
      "                \"CAD\": {\n",
      "                    \"price\": 3824.170854,\n",
      "                    \"volume_24h\": 22002785291.8825,\n",
      "                    \"market_cap\": 449990306362.846,\n",
      "                    \"percent_change_1h\": -0.182978587003936,\n",
      "                    \"percent_change_24h\": -0.684224946232336,\n",
      "                    \"percent_change_7d\": -4.83061139292298\n",
      "                }\n",
      "            },\n",
      "            \"last_updated\": 1633064616\n",
      "        }\n",
      "    },\n",
      "    \"metadata\": {\n",
      "        \"timestamp\": 1633064616,\n",
      "        \"num_cryptocurrencies\": 3105,\n",
      "        \"error\": null\n",
      "    }\n",
      "}\n"
     ]
    }
   ],
   "metadata": {}
  },
  {
   "cell_type": "code",
   "execution_count": 59,
   "source": [
    "# Fetch current BTC price\n",
    "btc_price = btc_response[\"data\"][\"1\"][\"quotes\"][\"USD\"][\"price\"]\n",
    "# Fetch current ETH price\n",
    "eth_price = eth_response[\"data\"][\"1027\"][\"quotes\"][\"USD\"][\"price\"]\n",
    "\n",
    "\n",
    "# Compute current value of my crpto\n",
    "my_btc_value = my_btc * btc_price\n",
    "my_eth_value = my_eth * eth_price\n",
    "\n",
    "# Print current crypto wallet balance\n",
    "print(f\"The current value of your {my_btc} BTC is ${my_btc_value:0.2f}\")\n",
    "print(f\"The current value of your {my_eth} ETH is ${my_eth_value:0.2f}\")"
   ],
   "outputs": [
    {
     "output_type": "stream",
     "name": "stdout",
     "text": [
      "The current value of your 1.2 BTC is $52414.80\n",
      "The current value of your 5.3 ETH is $15935.30\n"
     ]
    }
   ],
   "metadata": {}
  },
  {
   "cell_type": "markdown",
   "source": [
    "### Collect Investments Data Using Alpaca: `SPY` (stocks) and `AGG` (bonds)"
   ],
   "metadata": {}
  },
  {
   "cell_type": "code",
   "execution_count": 60,
   "source": [
    "# Set current amount of shares\n",
    "my_agg = 200\n",
    "my_spy = 50"
   ],
   "outputs": [],
   "metadata": {}
  },
  {
   "cell_type": "code",
   "execution_count": 61,
   "source": [
    "# Set Alpaca API key and secret\n",
    "alpaca_api_key = os.getenv(\"ALPACA_API_KEY\")\n",
    "alpaca_secret_key = os.getenv(\"ALPACA_SECRET_KEY\")\n",
    "\n",
    "# Create the Alpaca API object\n",
    "api = tradeapi.REST(\n",
    "    alpaca_api_key,\n",
    "    alpaca_secret_key,\n",
    "    api_version = \"v2\"\n",
    ")"
   ],
   "outputs": [],
   "metadata": {}
  },
  {
   "cell_type": "code",
   "execution_count": 62,
   "source": [
    "# Verify keys and secret key\n",
    "print(type(alpaca_api_key))\n",
    "print(type(alpaca_secret_key))"
   ],
   "outputs": [
    {
     "output_type": "stream",
     "name": "stdout",
     "text": [
      "<class 'str'>\n",
      "<class 'str'>\n"
     ]
    }
   ],
   "metadata": {}
  },
  {
   "cell_type": "code",
   "execution_count": 63,
   "source": [
    "# Format current date as ISO format\n",
    "today = pd.Timestamp(\"2021-09-29\", tz=\"America/New_York\").isoformat()\n",
    "\n",
    "# Set the tickers\n",
    "tickers = [\"AGG\", \"SPY\"]\n",
    "\n",
    "# Set timeframe to '1D' for Alpaca API\n",
    "timeframe = \"1D\"\n",
    "\n",
    "# Get current closing prices for SPY and AGG\n",
    "# (use a limit=1000 parameter to call the most recent 1000 days of data)\n",
    "current_closing_price = api.get_barset(\n",
    "    tickers,\n",
    "    timeframe,\n",
    "    start=today,\n",
    "    end=today,\n",
    "    limit=1000,\n",
    ").df\n",
    "\n",
    "# Preview DataFrame\n",
    "current_closing_price.head()"
   ],
   "outputs": [
    {
     "output_type": "execute_result",
     "data": {
      "text/html": [
       "<div>\n",
       "<style scoped>\n",
       "    .dataframe tbody tr th:only-of-type {\n",
       "        vertical-align: middle;\n",
       "    }\n",
       "\n",
       "    .dataframe tbody tr th {\n",
       "        vertical-align: top;\n",
       "    }\n",
       "\n",
       "    .dataframe thead tr th {\n",
       "        text-align: left;\n",
       "    }\n",
       "\n",
       "    .dataframe thead tr:last-of-type th {\n",
       "        text-align: right;\n",
       "    }\n",
       "</style>\n",
       "<table border=\"1\" class=\"dataframe\">\n",
       "  <thead>\n",
       "    <tr>\n",
       "      <th></th>\n",
       "      <th colspan=\"5\" halign=\"left\">AGG</th>\n",
       "      <th colspan=\"5\" halign=\"left\">SPY</th>\n",
       "    </tr>\n",
       "    <tr>\n",
       "      <th></th>\n",
       "      <th>open</th>\n",
       "      <th>high</th>\n",
       "      <th>low</th>\n",
       "      <th>close</th>\n",
       "      <th>volume</th>\n",
       "      <th>open</th>\n",
       "      <th>high</th>\n",
       "      <th>low</th>\n",
       "      <th>close</th>\n",
       "      <th>volume</th>\n",
       "    </tr>\n",
       "    <tr>\n",
       "      <th>time</th>\n",
       "      <th></th>\n",
       "      <th></th>\n",
       "      <th></th>\n",
       "      <th></th>\n",
       "      <th></th>\n",
       "      <th></th>\n",
       "      <th></th>\n",
       "      <th></th>\n",
       "      <th></th>\n",
       "      <th></th>\n",
       "    </tr>\n",
       "  </thead>\n",
       "  <tbody>\n",
       "    <tr>\n",
       "      <th>2021-09-29 00:00:00-04:00</th>\n",
       "      <td>114.97</td>\n",
       "      <td>115.06</td>\n",
       "      <td>114.715</td>\n",
       "      <td>114.85</td>\n",
       "      <td>5099586</td>\n",
       "      <td>435.19</td>\n",
       "      <td>437.04</td>\n",
       "      <td>433.85</td>\n",
       "      <td>434.44</td>\n",
       "      <td>69828191</td>\n",
       "    </tr>\n",
       "  </tbody>\n",
       "</table>\n",
       "</div>"
      ],
      "text/plain": [
       "                              AGG                                       SPY  \\\n",
       "                             open    high      low   close   volume    open   \n",
       "time                                                                          \n",
       "2021-09-29 00:00:00-04:00  114.97  115.06  114.715  114.85  5099586  435.19   \n",
       "\n",
       "                                                             \n",
       "                             high     low   close    volume  \n",
       "time                                                         \n",
       "2021-09-29 00:00:00-04:00  437.04  433.85  434.44  69828191  "
      ]
     },
     "metadata": {},
     "execution_count": 63
    }
   ],
   "metadata": {}
  },
  {
   "cell_type": "code",
   "execution_count": 64,
   "source": [
    "# Pick AGG and SPY close prices\n",
    "agg_close_price = float(current_closing_price[\"AGG\"][\"close\"])\n",
    "spy_close_price = float(current_closing_price[\"SPY\"][\"close\"])\n",
    "# Print AGG and SPY close prices\n",
    "print(f\"Current AGG closing price: ${agg_close_price}\")\n",
    "print(f\"Current SPY closing price: ${spy_close_price}\")"
   ],
   "outputs": [
    {
     "output_type": "stream",
     "name": "stdout",
     "text": [
      "Current AGG closing price: $114.85\n",
      "Current SPY closing price: $434.44\n"
     ]
    }
   ],
   "metadata": {}
  },
  {
   "cell_type": "code",
   "execution_count": 65,
   "source": [
    "# Compute the current value of shares\n",
    "my_agg_value = my_agg * agg_close_price\n",
    "my_spy_value = my_spy * spy_close_price\n",
    "\n",
    "# Print current value of shares\n",
    "print(f\"The current value of your {my_spy} SPY shares is ${my_spy_value:0.2f}\")\n",
    "print(f\"The current value of your {my_agg} AGG shares is ${my_agg_value:0.2f}\")"
   ],
   "outputs": [
    {
     "output_type": "stream",
     "name": "stdout",
     "text": [
      "The current value of your 50 SPY shares is $21722.00\n",
      "The current value of your 200 AGG shares is $22970.00\n"
     ]
    }
   ],
   "metadata": {}
  },
  {
   "cell_type": "markdown",
   "source": [
    "### Savings Health Analysis"
   ],
   "metadata": {}
  },
  {
   "cell_type": "code",
   "execution_count": 66,
   "source": [
    "# Set monthly household income\n",
    "monthly_household_income = 12000"
   ],
   "outputs": [],
   "metadata": {}
  },
  {
   "cell_type": "code",
   "execution_count": 67,
   "source": [
    "# Consolidate financial assets data\n",
    "total_crypto = my_btc_value + my_eth_value\n",
    "total_investments = my_agg_value + my_spy_value\n",
    "consolidate_assets = total_crypto + total_investments\n",
    "\n",
    "print(f\"The consolidated financial asset is worth ${consolidate_assets:0.2f}\")"
   ],
   "outputs": [
    {
     "output_type": "stream",
     "name": "stdout",
     "text": [
      "The consolidated financial asset is worth $113042.10\n"
     ]
    }
   ],
   "metadata": {}
  },
  {
   "cell_type": "code",
   "execution_count": 68,
   "source": [
    "# Create savings DataFrame\n",
    "data = [total_crypto, total_investments]\n",
    "\n",
    "df_savings = pd.DataFrame(data, index =[\"crypto\", \"shares\"],columns =[\"Amount\"])\n",
    "\n",
    "# Display savings DataFrame\n",
    "display(df_savings)"
   ],
   "outputs": [
    {
     "output_type": "display_data",
     "data": {
      "text/html": [
       "<div>\n",
       "<style scoped>\n",
       "    .dataframe tbody tr th:only-of-type {\n",
       "        vertical-align: middle;\n",
       "    }\n",
       "\n",
       "    .dataframe tbody tr th {\n",
       "        vertical-align: top;\n",
       "    }\n",
       "\n",
       "    .dataframe thead th {\n",
       "        text-align: right;\n",
       "    }\n",
       "</style>\n",
       "<table border=\"1\" class=\"dataframe\">\n",
       "  <thead>\n",
       "    <tr style=\"text-align: right;\">\n",
       "      <th></th>\n",
       "      <th>Amount</th>\n",
       "    </tr>\n",
       "  </thead>\n",
       "  <tbody>\n",
       "    <tr>\n",
       "      <th>crypto</th>\n",
       "      <td>68350.098</td>\n",
       "    </tr>\n",
       "    <tr>\n",
       "      <th>shares</th>\n",
       "      <td>44692.000</td>\n",
       "    </tr>\n",
       "  </tbody>\n",
       "</table>\n",
       "</div>"
      ],
      "text/plain": [
       "           Amount\n",
       "crypto  68350.098\n",
       "shares  44692.000"
      ]
     },
     "metadata": {}
    }
   ],
   "metadata": {}
  },
  {
   "cell_type": "code",
   "execution_count": 69,
   "source": [
    "# Plot savings pie chart\n",
    "\n",
    "df_savings.plot(kind=\"pie\", subplots=True)"
   ],
   "outputs": [
    {
     "output_type": "execute_result",
     "data": {
      "text/plain": [
       "array([<AxesSubplot:ylabel='Amount'>], dtype=object)"
      ]
     },
     "metadata": {},
     "execution_count": 69
    },
    {
     "output_type": "display_data",
     "data": {
      "image/png": "[encoded data removed]",
      "text/plain": [
       "<Figure size 432x288 with 1 Axes>"
      ]
     },
     "metadata": {}
    }
   ],
   "metadata": {}
  },
  {
   "cell_type": "code",
   "execution_count": 70,
   "source": [
    "# Set ideal emergency fund\n",
    "emergency_fund = monthly_household_income  * 3\n",
    "print(f\"The total amount in the emergency fund is ${emergency_fund}\")\n",
    "\n",
    "# Calculate total amount of savings\n",
    "print(f\"The total amount of savings is ${consolidate_assets:0.2f}\")"
   ],
   "outputs": [
    {
     "output_type": "stream",
     "name": "stdout",
     "text": [
      "The total amount in the emergency fund is $36000\n",
      "The total amount of savings is $113042.10\n"
     ]
    }
   ],
   "metadata": {}
  },
  {
   "cell_type": "code",
   "execution_count": 76,
   "source": [
    "# Validate saving health\n",
    "if consolidate_assets > emergency_fund:\n",
    "   print(\"Congrats! You have a gracious amount of money in your emergency fund. You are on your way to becoming the next Bruce Wayne\")\n",
    "elif consolidate_assets == emergency_fund:\n",
    "   print(\"Congrats! You reached your financial goal, yay!\")\n",
    "else:\n",
    "   print(f\"You are ${consolidate_assets - emergency_fund} dollars away from reaching your goal. Keep eating those ramen noodles. nom nom nom\")\n"
   ],
   "outputs": [
    {
     "output_type": "stream",
     "name": "stdout",
     "text": [
      "Congrats! You have a gracious amount of money in your emergency fund. You are on your way to becoming the next Bruce Wayne\n"
     ]
    }
   ],
   "metadata": {}
  },
  {
   "cell_type": "markdown",
   "source": [
    "## Part 2 - Retirement Planning\n",
    "\n",
    "### Monte Carlo Simulation"
   ],
   "metadata": {}
  },
  {
   "cell_type": "code",
   "execution_count": 77,
   "source": [
    "# Set start and end dates of five years back from today.\n",
    "# Sample results may vary from the solution based on the time frame chosen\n",
    "start_date = pd.Timestamp('2016-10-01', tz='America/New_York').isoformat()\n",
    "end_date = pd.Timestamp('2021-10-01', tz='America/New_York').isoformat()"
   ],
   "outputs": [],
   "metadata": {}
  },
  {
   "cell_type": "code",
   "execution_count": 82,
   "source": [
    "# Get 5 years' worth of historical data for SPY and AGG\n",
    "# (use a limit=1000 parameter to call the most recent 1000 days of data)\n",
    "tickers = [\"AGG\", \"SPY\"]\n",
    "df_stock_data = api.get_barset(\n",
    "    tickers,\n",
    "    timeframe,\n",
    "    start=start_date,\n",
    "    end=end_date,\n",
    "    limit=1000,\n",
    ").df\n",
    "\n",
    "# Display sample data\n",
    "df_stock_data.head()"
   ],
   "outputs": [
    {
     "output_type": "execute_result",
     "data": {
      "text/html": [
       "<div>\n",
       "<style scoped>\n",
       "    .dataframe tbody tr th:only-of-type {\n",
       "        vertical-align: middle;\n",
       "    }\n",
       "\n",
       "    .dataframe tbody tr th {\n",
       "        vertical-align: top;\n",
       "    }\n",
       "\n",
       "    .dataframe thead tr th {\n",
       "        text-align: left;\n",
       "    }\n",
       "\n",
       "    .dataframe thead tr:last-of-type th {\n",
       "        text-align: right;\n",
       "    }\n",
       "</style>\n",
       "<table border=\"1\" class=\"dataframe\">\n",
       "  <thead>\n",
       "    <tr>\n",
       "      <th></th>\n",
       "      <th colspan=\"5\" halign=\"left\">AGG</th>\n",
       "      <th colspan=\"5\" halign=\"left\">SPY</th>\n",
       "    </tr>\n",
       "    <tr>\n",
       "      <th></th>\n",
       "      <th>open</th>\n",
       "      <th>high</th>\n",
       "      <th>low</th>\n",
       "      <th>close</th>\n",
       "      <th>volume</th>\n",
       "      <th>open</th>\n",
       "      <th>high</th>\n",
       "      <th>low</th>\n",
       "      <th>close</th>\n",
       "      <th>volume</th>\n",
       "    </tr>\n",
       "    <tr>\n",
       "      <th>time</th>\n",
       "      <th></th>\n",
       "      <th></th>\n",
       "      <th></th>\n",
       "      <th></th>\n",
       "      <th></th>\n",
       "      <th></th>\n",
       "      <th></th>\n",
       "      <th></th>\n",
       "      <th></th>\n",
       "      <th></th>\n",
       "    </tr>\n",
       "  </thead>\n",
       "  <tbody>\n",
       "    <tr>\n",
       "      <th>2017-10-10 00:00:00-04:00</th>\n",
       "      <td>109.47</td>\n",
       "      <td>109.61</td>\n",
       "      <td>109.3999</td>\n",
       "      <td>109.43</td>\n",
       "      <td>1502645.0</td>\n",
       "      <td>NaN</td>\n",
       "      <td>NaN</td>\n",
       "      <td>NaN</td>\n",
       "      <td>NaN</td>\n",
       "      <td>NaN</td>\n",
       "    </tr>\n",
       "    <tr>\n",
       "      <th>2017-10-11 00:00:00-04:00</th>\n",
       "      <td>109.47</td>\n",
       "      <td>109.53</td>\n",
       "      <td>109.4200</td>\n",
       "      <td>109.47</td>\n",
       "      <td>1576528.0</td>\n",
       "      <td>254.51</td>\n",
       "      <td>255.02</td>\n",
       "      <td>254.320</td>\n",
       "      <td>255.00</td>\n",
       "      <td>24704274.0</td>\n",
       "    </tr>\n",
       "    <tr>\n",
       "      <th>2017-10-12 00:00:00-04:00</th>\n",
       "      <td>109.56</td>\n",
       "      <td>109.61</td>\n",
       "      <td>109.4800</td>\n",
       "      <td>109.61</td>\n",
       "      <td>1797948.0</td>\n",
       "      <td>254.66</td>\n",
       "      <td>255.06</td>\n",
       "      <td>254.365</td>\n",
       "      <td>254.60</td>\n",
       "      <td>32195167.0</td>\n",
       "    </tr>\n",
       "    <tr>\n",
       "      <th>2017-10-13 00:00:00-04:00</th>\n",
       "      <td>109.82</td>\n",
       "      <td>109.87</td>\n",
       "      <td>109.6900</td>\n",
       "      <td>109.85</td>\n",
       "      <td>1573645.0</td>\n",
       "      <td>255.14</td>\n",
       "      <td>255.27</td>\n",
       "      <td>254.640</td>\n",
       "      <td>254.91</td>\n",
       "      <td>33563533.0</td>\n",
       "    </tr>\n",
       "    <tr>\n",
       "      <th>2017-10-16 00:00:00-04:00</th>\n",
       "      <td>109.75</td>\n",
       "      <td>109.81</td>\n",
       "      <td>109.6600</td>\n",
       "      <td>109.74</td>\n",
       "      <td>3556213.0</td>\n",
       "      <td>255.21</td>\n",
       "      <td>255.51</td>\n",
       "      <td>254.820</td>\n",
       "      <td>255.30</td>\n",
       "      <td>25720677.0</td>\n",
       "    </tr>\n",
       "  </tbody>\n",
       "</table>\n",
       "</div>"
      ],
      "text/plain": [
       "                              AGG                                       \\\n",
       "                             open    high       low   close     volume   \n",
       "time                                                                     \n",
       "2017-10-10 00:00:00-04:00  109.47  109.61  109.3999  109.43  1502645.0   \n",
       "2017-10-11 00:00:00-04:00  109.47  109.53  109.4200  109.47  1576528.0   \n",
       "2017-10-12 00:00:00-04:00  109.56  109.61  109.4800  109.61  1797948.0   \n",
       "2017-10-13 00:00:00-04:00  109.82  109.87  109.6900  109.85  1573645.0   \n",
       "2017-10-16 00:00:00-04:00  109.75  109.81  109.6600  109.74  3556213.0   \n",
       "\n",
       "                              SPY                                       \n",
       "                             open    high      low   close      volume  \n",
       "time                                                                    \n",
       "2017-10-10 00:00:00-04:00     NaN     NaN      NaN     NaN         NaN  \n",
       "2017-10-11 00:00:00-04:00  254.51  255.02  254.320  255.00  24704274.0  \n",
       "2017-10-12 00:00:00-04:00  254.66  255.06  254.365  254.60  32195167.0  \n",
       "2017-10-13 00:00:00-04:00  255.14  255.27  254.640  254.91  33563533.0  \n",
       "2017-10-16 00:00:00-04:00  255.21  255.51  254.820  255.30  25720677.0  "
      ]
     },
     "metadata": {},
     "execution_count": 82
    }
   ],
   "metadata": {}
  },
  {
   "cell_type": "code",
   "execution_count": 85,
   "source": [
    "# Configuring a Monte Carlo simulation to forecast 30 years cumulative returns\n",
    "MC_thirty_year = MCSimulation(\n",
    "    portfolio_data = df_stock_data,\n",
    "    weights = [.40,.60],\n",
    "    num_simulation = 500,\n",
    "    num_trading_days = 252*30\n",
    ")\n",
    "#use the Alpaca API to fetch five years historical closing prices \n",
    "#for a traditional `40/60` portfolio using the `SPY` and `AGG` \n",
    "# tickers to represent the `60%` stocks (`SPY`) and `40%` bonds (`AGG`) \n",
    "# composition of the portfolio. Make sure to convert the API output \n",
    "# to a DataFrame and preview the output."
   ],
   "outputs": [],
   "metadata": {}
  },
  {
   "cell_type": "code",
   "execution_count": 86,
   "source": [
    "# Printing the simulation input data\n",
    "MC_thirty_year.portfolio_data.head()"
   ],
   "outputs": [
    {
     "output_type": "execute_result",
     "data": {
      "text/html": [
       "<div>\n",
       "<style scoped>\n",
       "    .dataframe tbody tr th:only-of-type {\n",
       "        vertical-align: middle;\n",
       "    }\n",
       "\n",
       "    .dataframe tbody tr th {\n",
       "        vertical-align: top;\n",
       "    }\n",
       "\n",
       "    .dataframe thead tr th {\n",
       "        text-align: left;\n",
       "    }\n",
       "\n",
       "    .dataframe thead tr:last-of-type th {\n",
       "        text-align: right;\n",
       "    }\n",
       "</style>\n",
       "<table border=\"1\" class=\"dataframe\">\n",
       "  <thead>\n",
       "    <tr>\n",
       "      <th></th>\n",
       "      <th colspan=\"6\" halign=\"left\">AGG</th>\n",
       "      <th colspan=\"6\" halign=\"left\">SPY</th>\n",
       "    </tr>\n",
       "    <tr>\n",
       "      <th></th>\n",
       "      <th>open</th>\n",
       "      <th>high</th>\n",
       "      <th>low</th>\n",
       "      <th>close</th>\n",
       "      <th>volume</th>\n",
       "      <th>daily_return</th>\n",
       "      <th>open</th>\n",
       "      <th>high</th>\n",
       "      <th>low</th>\n",
       "      <th>close</th>\n",
       "      <th>volume</th>\n",
       "      <th>daily_return</th>\n",
       "    </tr>\n",
       "    <tr>\n",
       "      <th>time</th>\n",
       "      <th></th>\n",
       "      <th></th>\n",
       "      <th></th>\n",
       "      <th></th>\n",
       "      <th></th>\n",
       "      <th></th>\n",
       "      <th></th>\n",
       "      <th></th>\n",
       "      <th></th>\n",
       "      <th></th>\n",
       "      <th></th>\n",
       "      <th></th>\n",
       "    </tr>\n",
       "  </thead>\n",
       "  <tbody>\n",
       "    <tr>\n",
       "      <th>2017-10-10 00:00:00-04:00</th>\n",
       "      <td>109.47</td>\n",
       "      <td>109.61</td>\n",
       "      <td>109.3999</td>\n",
       "      <td>109.43</td>\n",
       "      <td>1502645.0</td>\n",
       "      <td>NaN</td>\n",
       "      <td>NaN</td>\n",
       "      <td>NaN</td>\n",
       "      <td>NaN</td>\n",
       "      <td>NaN</td>\n",
       "      <td>NaN</td>\n",
       "      <td>NaN</td>\n",
       "    </tr>\n",
       "    <tr>\n",
       "      <th>2017-10-11 00:00:00-04:00</th>\n",
       "      <td>109.47</td>\n",
       "      <td>109.53</td>\n",
       "      <td>109.4200</td>\n",
       "      <td>109.47</td>\n",
       "      <td>1576528.0</td>\n",
       "      <td>0.000366</td>\n",
       "      <td>254.51</td>\n",
       "      <td>255.02</td>\n",
       "      <td>254.320</td>\n",
       "      <td>255.00</td>\n",
       "      <td>24704274.0</td>\n",
       "      <td>NaN</td>\n",
       "    </tr>\n",
       "    <tr>\n",
       "      <th>2017-10-12 00:00:00-04:00</th>\n",
       "      <td>109.56</td>\n",
       "      <td>109.61</td>\n",
       "      <td>109.4800</td>\n",
       "      <td>109.61</td>\n",
       "      <td>1797948.0</td>\n",
       "      <td>0.001279</td>\n",
       "      <td>254.66</td>\n",
       "      <td>255.06</td>\n",
       "      <td>254.365</td>\n",
       "      <td>254.60</td>\n",
       "      <td>32195167.0</td>\n",
       "      <td>-0.001569</td>\n",
       "    </tr>\n",
       "    <tr>\n",
       "      <th>2017-10-13 00:00:00-04:00</th>\n",
       "      <td>109.82</td>\n",
       "      <td>109.87</td>\n",
       "      <td>109.6900</td>\n",
       "      <td>109.85</td>\n",
       "      <td>1573645.0</td>\n",
       "      <td>0.002190</td>\n",
       "      <td>255.14</td>\n",
       "      <td>255.27</td>\n",
       "      <td>254.640</td>\n",
       "      <td>254.91</td>\n",
       "      <td>33563533.0</td>\n",
       "      <td>0.001218</td>\n",
       "    </tr>\n",
       "    <tr>\n",
       "      <th>2017-10-16 00:00:00-04:00</th>\n",
       "      <td>109.75</td>\n",
       "      <td>109.81</td>\n",
       "      <td>109.6600</td>\n",
       "      <td>109.74</td>\n",
       "      <td>3556213.0</td>\n",
       "      <td>-0.001001</td>\n",
       "      <td>255.21</td>\n",
       "      <td>255.51</td>\n",
       "      <td>254.820</td>\n",
       "      <td>255.30</td>\n",
       "      <td>25720677.0</td>\n",
       "      <td>0.001530</td>\n",
       "    </tr>\n",
       "  </tbody>\n",
       "</table>\n",
       "</div>"
      ],
      "text/plain": [
       "                              AGG                                       \\\n",
       "                             open    high       low   close     volume   \n",
       "time                                                                     \n",
       "2017-10-10 00:00:00-04:00  109.47  109.61  109.3999  109.43  1502645.0   \n",
       "2017-10-11 00:00:00-04:00  109.47  109.53  109.4200  109.47  1576528.0   \n",
       "2017-10-12 00:00:00-04:00  109.56  109.61  109.4800  109.61  1797948.0   \n",
       "2017-10-13 00:00:00-04:00  109.82  109.87  109.6900  109.85  1573645.0   \n",
       "2017-10-16 00:00:00-04:00  109.75  109.81  109.6600  109.74  3556213.0   \n",
       "\n",
       "                                           SPY                           \\\n",
       "                          daily_return    open    high      low   close   \n",
       "time                                                                      \n",
       "2017-10-10 00:00:00-04:00          NaN     NaN     NaN      NaN     NaN   \n",
       "2017-10-11 00:00:00-04:00     0.000366  254.51  255.02  254.320  255.00   \n",
       "2017-10-12 00:00:00-04:00     0.001279  254.66  255.06  254.365  254.60   \n",
       "2017-10-13 00:00:00-04:00     0.002190  255.14  255.27  254.640  254.91   \n",
       "2017-10-16 00:00:00-04:00    -0.001001  255.21  255.51  254.820  255.30   \n",
       "\n",
       "                                                    \n",
       "                               volume daily_return  \n",
       "time                                                \n",
       "2017-10-10 00:00:00-04:00         NaN          NaN  \n",
       "2017-10-11 00:00:00-04:00  24704274.0          NaN  \n",
       "2017-10-12 00:00:00-04:00  32195167.0    -0.001569  \n",
       "2017-10-13 00:00:00-04:00  33563533.0     0.001218  \n",
       "2017-10-16 00:00:00-04:00  25720677.0     0.001530  "
      ]
     },
     "metadata": {},
     "execution_count": 86
    }
   ],
   "metadata": {}
  },
  {
   "cell_type": "code",
   "execution_count": 87,
   "source": [
    "# Running a Monte Carlo simulation to forecast 30 years cumulative returns\n",
    "MC_thirty_year.calc_cumulative_return()"
   ],
   "outputs": [
    {
     "output_type": "stream",
     "name": "stdout",
     "text": [
      "Running Monte Carlo simulation number 0.\n",
      "Running Monte Carlo simulation number 10.\n",
      "Running Monte Carlo simulation number 20.\n",
      "Running Monte Carlo simulation number 30.\n",
      "Running Monte Carlo simulation number 40.\n",
      "Running Monte Carlo simulation number 50.\n",
      "Running Monte Carlo simulation number 60.\n",
      "Running Monte Carlo simulation number 70.\n",
      "Running Monte Carlo simulation number 80.\n",
      "Running Monte Carlo simulation number 90.\n",
      "Running Monte Carlo simulation number 100.\n",
      "Running Monte Carlo simulation number 110.\n",
      "Running Monte Carlo simulation number 120.\n",
      "Running Monte Carlo simulation number 130.\n",
      "Running Monte Carlo simulation number 140.\n",
      "Running Monte Carlo simulation number 150.\n",
      "Running Monte Carlo simulation number 160.\n",
      "Running Monte Carlo simulation number 170.\n",
      "Running Monte Carlo simulation number 180.\n",
      "Running Monte Carlo simulation number 190.\n",
      "Running Monte Carlo simulation number 200.\n",
      "Running Monte Carlo simulation number 210.\n",
      "Running Monte Carlo simulation number 220.\n",
      "Running Monte Carlo simulation number 230.\n",
      "Running Monte Carlo simulation number 240.\n",
      "Running Monte Carlo simulation number 250.\n",
      "Running Monte Carlo simulation number 260.\n",
      "Running Monte Carlo simulation number 270.\n",
      "Running Monte Carlo simulation number 280.\n",
      "Running Monte Carlo simulation number 290.\n",
      "Running Monte Carlo simulation number 300.\n",
      "Running Monte Carlo simulation number 310.\n",
      "Running Monte Carlo simulation number 320.\n",
      "Running Monte Carlo simulation number 330.\n",
      "Running Monte Carlo simulation number 340.\n",
      "Running Monte Carlo simulation number 350.\n",
      "Running Monte Carlo simulation number 360.\n",
      "Running Monte Carlo simulation number 370.\n",
      "Running Monte Carlo simulation number 380.\n",
      "Running Monte Carlo simulation number 390.\n",
      "Running Monte Carlo simulation number 400.\n",
      "Running Monte Carlo simulation number 410.\n",
      "Running Monte Carlo simulation number 420.\n",
      "Running Monte Carlo simulation number 430.\n",
      "Running Monte Carlo simulation number 440.\n",
      "Running Monte Carlo simulation number 450.\n",
      "Running Monte Carlo simulation number 460.\n",
      "Running Monte Carlo simulation number 470.\n",
      "Running Monte Carlo simulation number 480.\n",
      "Running Monte Carlo simulation number 490.\n"
     ]
    },
    {
     "output_type": "execute_result",
     "data": {
      "text/html": [
       "<div>\n",
       "<style scoped>\n",
       "    .dataframe tbody tr th:only-of-type {\n",
       "        vertical-align: middle;\n",
       "    }\n",
       "\n",
       "    .dataframe tbody tr th {\n",
       "        vertical-align: top;\n",
       "    }\n",
       "\n",
       "    .dataframe thead th {\n",
       "        text-align: right;\n",
       "    }\n",
       "</style>\n",
       "<table border=\"1\" class=\"dataframe\">\n",
       "  <thead>\n",
       "    <tr style=\"text-align: right;\">\n",
       "      <th></th>\n",
       "      <th>0</th>\n",
       "      <th>1</th>\n",
       "      <th>2</th>\n",
       "      <th>3</th>\n",
       "      <th>4</th>\n",
       "      <th>5</th>\n",
       "      <th>6</th>\n",
       "      <th>7</th>\n",
       "      <th>8</th>\n",
       "      <th>9</th>\n",
       "      <th>...</th>\n",
       "      <th>490</th>\n",
       "      <th>491</th>\n",
       "      <th>492</th>\n",
       "      <th>493</th>\n",
       "      <th>494</th>\n",
       "      <th>495</th>\n",
       "      <th>496</th>\n",
       "      <th>497</th>\n",
       "      <th>498</th>\n",
       "      <th>499</th>\n",
       "    </tr>\n",
       "  </thead>\n",
       "  <tbody>\n",
       "    <tr>\n",
       "      <th>0</th>\n",
       "      <td>1.000000</td>\n",
       "      <td>1.000000</td>\n",
       "      <td>1.000000</td>\n",
       "      <td>1.000000</td>\n",
       "      <td>1.000000</td>\n",
       "      <td>1.000000</td>\n",
       "      <td>1.000000</td>\n",
       "      <td>1.000000</td>\n",
       "      <td>1.000000</td>\n",
       "      <td>1.000000</td>\n",
       "      <td>...</td>\n",
       "      <td>1.000000</td>\n",
       "      <td>1.000000</td>\n",
       "      <td>1.000000</td>\n",
       "      <td>1.000000</td>\n",
       "      <td>1.000000</td>\n",
       "      <td>1.000000</td>\n",
       "      <td>1.000000</td>\n",
       "      <td>1.000000</td>\n",
       "      <td>1.000000</td>\n",
       "      <td>1.000000</td>\n",
       "    </tr>\n",
       "    <tr>\n",
       "      <th>1</th>\n",
       "      <td>1.009191</td>\n",
       "      <td>0.984198</td>\n",
       "      <td>0.989776</td>\n",
       "      <td>0.998214</td>\n",
       "      <td>1.007549</td>\n",
       "      <td>0.999062</td>\n",
       "      <td>1.001184</td>\n",
       "      <td>1.006436</td>\n",
       "      <td>0.994411</td>\n",
       "      <td>0.998339</td>\n",
       "      <td>...</td>\n",
       "      <td>0.994882</td>\n",
       "      <td>0.998753</td>\n",
       "      <td>1.015742</td>\n",
       "      <td>1.006011</td>\n",
       "      <td>1.010849</td>\n",
       "      <td>1.008647</td>\n",
       "      <td>0.990512</td>\n",
       "      <td>1.000723</td>\n",
       "      <td>0.999192</td>\n",
       "      <td>0.997051</td>\n",
       "    </tr>\n",
       "    <tr>\n",
       "      <th>2</th>\n",
       "      <td>1.003234</td>\n",
       "      <td>0.984674</td>\n",
       "      <td>0.994751</td>\n",
       "      <td>1.008360</td>\n",
       "      <td>1.004838</td>\n",
       "      <td>1.000516</td>\n",
       "      <td>0.997044</td>\n",
       "      <td>0.986346</td>\n",
       "      <td>0.997110</td>\n",
       "      <td>0.997992</td>\n",
       "      <td>...</td>\n",
       "      <td>1.004532</td>\n",
       "      <td>1.002164</td>\n",
       "      <td>1.015639</td>\n",
       "      <td>1.005847</td>\n",
       "      <td>1.014722</td>\n",
       "      <td>1.004483</td>\n",
       "      <td>0.988581</td>\n",
       "      <td>1.005789</td>\n",
       "      <td>1.002068</td>\n",
       "      <td>1.003799</td>\n",
       "    </tr>\n",
       "    <tr>\n",
       "      <th>3</th>\n",
       "      <td>1.008112</td>\n",
       "      <td>0.977833</td>\n",
       "      <td>0.991041</td>\n",
       "      <td>1.012326</td>\n",
       "      <td>1.008566</td>\n",
       "      <td>1.004937</td>\n",
       "      <td>0.996075</td>\n",
       "      <td>0.978799</td>\n",
       "      <td>1.003326</td>\n",
       "      <td>1.007229</td>\n",
       "      <td>...</td>\n",
       "      <td>1.012525</td>\n",
       "      <td>1.002464</td>\n",
       "      <td>1.023521</td>\n",
       "      <td>0.996795</td>\n",
       "      <td>1.007721</td>\n",
       "      <td>1.001527</td>\n",
       "      <td>0.987900</td>\n",
       "      <td>1.015913</td>\n",
       "      <td>1.003381</td>\n",
       "      <td>0.984602</td>\n",
       "    </tr>\n",
       "    <tr>\n",
       "      <th>4</th>\n",
       "      <td>1.010198</td>\n",
       "      <td>0.962849</td>\n",
       "      <td>0.998188</td>\n",
       "      <td>1.012348</td>\n",
       "      <td>1.004142</td>\n",
       "      <td>1.006473</td>\n",
       "      <td>0.985723</td>\n",
       "      <td>0.984955</td>\n",
       "      <td>1.000270</td>\n",
       "      <td>0.999026</td>\n",
       "      <td>...</td>\n",
       "      <td>1.019942</td>\n",
       "      <td>1.003261</td>\n",
       "      <td>1.020827</td>\n",
       "      <td>0.986413</td>\n",
       "      <td>1.008112</td>\n",
       "      <td>1.005757</td>\n",
       "      <td>0.990286</td>\n",
       "      <td>1.015445</td>\n",
       "      <td>1.007045</td>\n",
       "      <td>0.990051</td>\n",
       "    </tr>\n",
       "    <tr>\n",
       "      <th>...</th>\n",
       "      <td>...</td>\n",
       "      <td>...</td>\n",
       "      <td>...</td>\n",
       "      <td>...</td>\n",
       "      <td>...</td>\n",
       "      <td>...</td>\n",
       "      <td>...</td>\n",
       "      <td>...</td>\n",
       "      <td>...</td>\n",
       "      <td>...</td>\n",
       "      <td>...</td>\n",
       "      <td>...</td>\n",
       "      <td>...</td>\n",
       "      <td>...</td>\n",
       "      <td>...</td>\n",
       "      <td>...</td>\n",
       "      <td>...</td>\n",
       "      <td>...</td>\n",
       "      <td>...</td>\n",
       "      <td>...</td>\n",
       "      <td>...</td>\n",
       "    </tr>\n",
       "    <tr>\n",
       "      <th>7556</th>\n",
       "      <td>61.759801</td>\n",
       "      <td>19.185368</td>\n",
       "      <td>13.626344</td>\n",
       "      <td>4.816521</td>\n",
       "      <td>14.544593</td>\n",
       "      <td>4.265567</td>\n",
       "      <td>13.572336</td>\n",
       "      <td>10.009659</td>\n",
       "      <td>11.944322</td>\n",
       "      <td>56.448021</td>\n",
       "      <td>...</td>\n",
       "      <td>18.368748</td>\n",
       "      <td>19.180863</td>\n",
       "      <td>12.126090</td>\n",
       "      <td>19.780235</td>\n",
       "      <td>13.731089</td>\n",
       "      <td>90.333883</td>\n",
       "      <td>5.665667</td>\n",
       "      <td>12.669030</td>\n",
       "      <td>31.800215</td>\n",
       "      <td>28.423320</td>\n",
       "    </tr>\n",
       "    <tr>\n",
       "      <th>7557</th>\n",
       "      <td>60.728267</td>\n",
       "      <td>19.155792</td>\n",
       "      <td>13.401877</td>\n",
       "      <td>4.748962</td>\n",
       "      <td>14.394038</td>\n",
       "      <td>4.283278</td>\n",
       "      <td>13.603614</td>\n",
       "      <td>10.116474</td>\n",
       "      <td>11.941289</td>\n",
       "      <td>56.632099</td>\n",
       "      <td>...</td>\n",
       "      <td>18.361386</td>\n",
       "      <td>19.314903</td>\n",
       "      <td>12.195757</td>\n",
       "      <td>19.863232</td>\n",
       "      <td>13.662232</td>\n",
       "      <td>90.207419</td>\n",
       "      <td>5.704534</td>\n",
       "      <td>12.787153</td>\n",
       "      <td>31.552876</td>\n",
       "      <td>28.174222</td>\n",
       "    </tr>\n",
       "    <tr>\n",
       "      <th>7558</th>\n",
       "      <td>60.290195</td>\n",
       "      <td>19.312540</td>\n",
       "      <td>13.260893</td>\n",
       "      <td>4.780003</td>\n",
       "      <td>14.504405</td>\n",
       "      <td>4.308519</td>\n",
       "      <td>13.643460</td>\n",
       "      <td>10.053055</td>\n",
       "      <td>12.030121</td>\n",
       "      <td>55.801727</td>\n",
       "      <td>...</td>\n",
       "      <td>18.262319</td>\n",
       "      <td>19.581371</td>\n",
       "      <td>12.222532</td>\n",
       "      <td>19.732745</td>\n",
       "      <td>13.961704</td>\n",
       "      <td>92.227683</td>\n",
       "      <td>5.683200</td>\n",
       "      <td>12.723857</td>\n",
       "      <td>31.435921</td>\n",
       "      <td>28.129583</td>\n",
       "    </tr>\n",
       "    <tr>\n",
       "      <th>7559</th>\n",
       "      <td>59.403505</td>\n",
       "      <td>19.338253</td>\n",
       "      <td>13.378787</td>\n",
       "      <td>4.740220</td>\n",
       "      <td>14.543624</td>\n",
       "      <td>4.271979</td>\n",
       "      <td>13.787816</td>\n",
       "      <td>9.966816</td>\n",
       "      <td>12.055011</td>\n",
       "      <td>56.044523</td>\n",
       "      <td>...</td>\n",
       "      <td>17.991687</td>\n",
       "      <td>19.517142</td>\n",
       "      <td>12.314226</td>\n",
       "      <td>19.860587</td>\n",
       "      <td>14.007693</td>\n",
       "      <td>92.546951</td>\n",
       "      <td>5.690557</td>\n",
       "      <td>12.841352</td>\n",
       "      <td>31.482413</td>\n",
       "      <td>28.290958</td>\n",
       "    </tr>\n",
       "    <tr>\n",
       "      <th>7560</th>\n",
       "      <td>58.736583</td>\n",
       "      <td>19.332767</td>\n",
       "      <td>13.297948</td>\n",
       "      <td>4.705432</td>\n",
       "      <td>14.682434</td>\n",
       "      <td>4.219871</td>\n",
       "      <td>14.002752</td>\n",
       "      <td>9.945720</td>\n",
       "      <td>12.202394</td>\n",
       "      <td>56.166593</td>\n",
       "      <td>...</td>\n",
       "      <td>18.054126</td>\n",
       "      <td>19.351544</td>\n",
       "      <td>12.401188</td>\n",
       "      <td>19.705560</td>\n",
       "      <td>13.844987</td>\n",
       "      <td>92.808678</td>\n",
       "      <td>5.737698</td>\n",
       "      <td>12.897756</td>\n",
       "      <td>31.675394</td>\n",
       "      <td>27.982136</td>\n",
       "    </tr>\n",
       "  </tbody>\n",
       "</table>\n",
       "<p>7561 rows × 500 columns</p>\n",
       "</div>"
      ],
      "text/plain": [
       "            0          1          2         3          4         5    \\\n",
       "0      1.000000   1.000000   1.000000  1.000000   1.000000  1.000000   \n",
       "1      1.009191   0.984198   0.989776  0.998214   1.007549  0.999062   \n",
       "2      1.003234   0.984674   0.994751  1.008360   1.004838  1.000516   \n",
       "3      1.008112   0.977833   0.991041  1.012326   1.008566  1.004937   \n",
       "4      1.010198   0.962849   0.998188  1.012348   1.004142  1.006473   \n",
       "...         ...        ...        ...       ...        ...       ...   \n",
       "7556  61.759801  19.185368  13.626344  4.816521  14.544593  4.265567   \n",
       "7557  60.728267  19.155792  13.401877  4.748962  14.394038  4.283278   \n",
       "7558  60.290195  19.312540  13.260893  4.780003  14.504405  4.308519   \n",
       "7559  59.403505  19.338253  13.378787  4.740220  14.543624  4.271979   \n",
       "7560  58.736583  19.332767  13.297948  4.705432  14.682434  4.219871   \n",
       "\n",
       "            6          7          8          9    ...        490        491  \\\n",
       "0      1.000000   1.000000   1.000000   1.000000  ...   1.000000   1.000000   \n",
       "1      1.001184   1.006436   0.994411   0.998339  ...   0.994882   0.998753   \n",
       "2      0.997044   0.986346   0.997110   0.997992  ...   1.004532   1.002164   \n",
       "3      0.996075   0.978799   1.003326   1.007229  ...   1.012525   1.002464   \n",
       "4      0.985723   0.984955   1.000270   0.999026  ...   1.019942   1.003261   \n",
       "...         ...        ...        ...        ...  ...        ...        ...   \n",
       "7556  13.572336  10.009659  11.944322  56.448021  ...  18.368748  19.180863   \n",
       "7557  13.603614  10.116474  11.941289  56.632099  ...  18.361386  19.314903   \n",
       "7558  13.643460  10.053055  12.030121  55.801727  ...  18.262319  19.581371   \n",
       "7559  13.787816   9.966816  12.055011  56.044523  ...  17.991687  19.517142   \n",
       "7560  14.002752   9.945720  12.202394  56.166593  ...  18.054126  19.351544   \n",
       "\n",
       "            492        493        494        495       496        497  \\\n",
       "0      1.000000   1.000000   1.000000   1.000000  1.000000   1.000000   \n",
       "1      1.015742   1.006011   1.010849   1.008647  0.990512   1.000723   \n",
       "2      1.015639   1.005847   1.014722   1.004483  0.988581   1.005789   \n",
       "3      1.023521   0.996795   1.007721   1.001527  0.987900   1.015913   \n",
       "4      1.020827   0.986413   1.008112   1.005757  0.990286   1.015445   \n",
       "...         ...        ...        ...        ...       ...        ...   \n",
       "7556  12.126090  19.780235  13.731089  90.333883  5.665667  12.669030   \n",
       "7557  12.195757  19.863232  13.662232  90.207419  5.704534  12.787153   \n",
       "7558  12.222532  19.732745  13.961704  92.227683  5.683200  12.723857   \n",
       "7559  12.314226  19.860587  14.007693  92.546951  5.690557  12.841352   \n",
       "7560  12.401188  19.705560  13.844987  92.808678  5.737698  12.897756   \n",
       "\n",
       "            498        499  \n",
       "0      1.000000   1.000000  \n",
       "1      0.999192   0.997051  \n",
       "2      1.002068   1.003799  \n",
       "3      1.003381   0.984602  \n",
       "4      1.007045   0.990051  \n",
       "...         ...        ...  \n",
       "7556  31.800215  28.423320  \n",
       "7557  31.552876  28.174222  \n",
       "7558  31.435921  28.129583  \n",
       "7559  31.482413  28.290958  \n",
       "7560  31.675394  27.982136  \n",
       "\n",
       "[7561 rows x 500 columns]"
      ]
     },
     "metadata": {},
     "execution_count": 87
    }
   ],
   "metadata": {}
  },
  {
   "cell_type": "code",
   "execution_count": 88,
   "source": [
    "# Plot simulation outcomes\n",
    "line_plot = MC_thirty_year.plot_simulation()\n"
   ],
   "outputs": [
    {
     "output_type": "display_data",
     "data": {
      "image/png": "[encoded data removed]",
      "text/plain": [
       "<Figure size 432x288 with 1 Axes>"
      ]
     },
     "metadata": {
      "needs_background": "light"
     }
    }
   ],
   "metadata": {}
  },
  {
   "cell_type": "code",
   "execution_count": 89,
   "source": [
    "# Plot probability distribution and confidence intervals\n",
    "distribution_confidence_intervals_plot = MC_thirty_year.plot_distribution()\n"
   ],
   "outputs": [
    {
     "output_type": "display_data",
     "data": {
      "image/png": "[encoded data removed]",
      "text/plain": [
       "<Figure size 432x288 with 1 Axes>"
      ]
     },
     "metadata": {
      "needs_background": "light"
     }
    }
   ],
   "metadata": {}
  },
  {
   "cell_type": "markdown",
   "source": [
    "### Retirement Analysis"
   ],
   "metadata": {}
  },
  {
   "cell_type": "code",
   "execution_count": null,
   "source": [
    "# Fetch summary statistics from the Monte Carlo simulation results\n",
    "# YOUR CODE HERE!\n",
    "\n",
    "# Print summary statistics\n",
    "# YOUR CODE HERE!"
   ],
   "outputs": [],
   "metadata": {}
  },
  {
   "cell_type": "markdown",
   "source": [
    "### Calculate the expected portfolio return at the `95%` lower and upper confidence intervals based on a `$20,000` initial investment."
   ],
   "metadata": {}
  },
  {
   "cell_type": "code",
   "execution_count": null,
   "source": [
    "# Set initial investment\n",
    "initial_investment = 20000\n",
    "\n",
    "# Use the lower and upper `95%` confidence intervals to calculate the range of the possible outcomes of our $20,000\n",
    "# YOUR CODE HERE!\n",
    "\n",
    "# Print results\n",
    "print(f\"There is a 95% chance that an initial investment of ${initial_investment} in the portfolio\"\n",
    "      f\" over the next 30 years will end within in the range of\"\n",
    "      f\" ${ci_lower} and ${ci_upper}\")"
   ],
   "outputs": [],
   "metadata": {}
  },
  {
   "cell_type": "markdown",
   "source": [
    "### Calculate the expected portfolio return at the `95%` lower and upper confidence intervals based on a `50%` increase in the initial investment."
   ],
   "metadata": {}
  },
  {
   "cell_type": "code",
   "execution_count": null,
   "source": [
    "# Set initial investment\n",
    "initial_investment = 20000 * 1.5\n",
    "\n",
    "# Use the lower and upper `95%` confidence intervals to calculate the range of the possible outcomes of our $30,000\n",
    "# YOUR CODE HERE!\n",
    "\n",
    "# Print results\n",
    "print(f\"There is a 95% chance that an initial investment of ${initial_investment} in the portfolio\"\n",
    "      f\" over the next 30 years will end within in the range of\"\n",
    "      f\" ${ci_lower} and ${ci_upper}\")"
   ],
   "outputs": [],
   "metadata": {}
  },
  {
   "cell_type": "markdown",
   "source": [
    "## Optional Challenge - Early Retirement\n",
    "\n",
    "\n",
    "### Five Years Retirement Option"
   ],
   "metadata": {}
  },
  {
   "cell_type": "code",
   "execution_count": null,
   "source": [
    "# Configuring a Monte Carlo simulation to forecast 5 years cumulative returns\n",
    "# YOUR CODE HERE!"
   ],
   "outputs": [],
   "metadata": {}
  },
  {
   "cell_type": "code",
   "execution_count": null,
   "source": [
    "# Running a Monte Carlo simulation to forecast 5 years cumulative returns\n",
    "# YOUR CODE HERE!"
   ],
   "outputs": [],
   "metadata": {}
  },
  {
   "cell_type": "code",
   "execution_count": null,
   "source": [
    "# Plot simulation outcomes\n",
    "# YOUR CODE HERE!"
   ],
   "outputs": [],
   "metadata": {}
  },
  {
   "cell_type": "code",
   "execution_count": null,
   "source": [
    "# Plot probability distribution and confidence intervals\n",
    "# YOUR CODE HERE!"
   ],
   "outputs": [],
   "metadata": {}
  },
  {
   "cell_type": "code",
   "execution_count": null,
   "source": [
    "# Fetch summary statistics from the Monte Carlo simulation results\n",
    "# YOUR CODE HERE!\n",
    "\n",
    "# Print summary statistics\n",
    "# YOUR CODE HERE!"
   ],
   "outputs": [],
   "metadata": {}
  },
  {
   "cell_type": "code",
   "execution_count": null,
   "source": [
    "# Set initial investment\n",
    "# YOUR CODE HERE!\n",
    "\n",
    "# Use the lower and upper `95%` confidence intervals to calculate the range of the possible outcomes of our $60,000\n",
    "# YOUR CODE HERE!\n",
    "\n",
    "# Print results\n",
    "print(f\"There is a 95% chance that an initial investment of ${initial_investment} in the portfolio\"\n",
    "      f\" over the next 5 years will end within in the range of\"\n",
    "      f\" ${ci_lower_five} and ${ci_upper_five}\")"
   ],
   "outputs": [],
   "metadata": {}
  },
  {
   "cell_type": "markdown",
   "source": [
    "### Ten Years Retirement Option"
   ],
   "metadata": {}
  },
  {
   "cell_type": "code",
   "execution_count": null,
   "source": [
    "# Configuring a Monte Carlo simulation to forecast 10 years cumulative returns\n",
    "# YOUR CODE HERE!"
   ],
   "outputs": [],
   "metadata": {}
  },
  {
   "cell_type": "code",
   "execution_count": null,
   "source": [
    "# Running a Monte Carlo simulation to forecast 10 years cumulative returns\n",
    "# YOUR CODE HERE!"
   ],
   "outputs": [],
   "metadata": {}
  },
  {
   "cell_type": "code",
   "execution_count": null,
   "source": [
    "# Plot simulation outcomes\n",
    "# YOUR CODE HERE!"
   ],
   "outputs": [],
   "metadata": {}
  },
  {
   "cell_type": "code",
   "execution_count": null,
   "source": [
    "# Plot probability distribution and confidence intervals\n",
    "# YOUR CODE HERE!"
   ],
   "outputs": [],
   "metadata": {}
  },
  {
   "cell_type": "code",
   "execution_count": null,
   "source": [
    "# Fetch summary statistics from the Monte Carlo simulation results\n",
    "# YOUR CODE HERE!\n",
    "\n",
    "# Print summary statistics\n",
    "# YOUR CODE HERE!"
   ],
   "outputs": [],
   "metadata": {}
  },
  {
   "cell_type": "code",
   "execution_count": null,
   "source": [
    "# Set initial investment\n",
    "# YOUR CODE HERE!\n",
    "\n",
    "# Use the lower and upper `95%` confidence intervals to calculate the range of the possible outcomes of our $60,000\n",
    "# YOUR CODE HERE!\n",
    "\n",
    "# Print results\n",
    "print(f\"There is a 95% chance that an initial investment of ${initial_investment} in the portfolio\"\n",
    "      f\" over the next 10 years will end within in the range of\"\n",
    "      f\" ${ci_lower_ten} and ${ci_upper_ten}\")"
   ],
   "outputs": [],
   "metadata": {}
  },
  {
   "cell_type": "code",
   "execution_count": null,
   "source": [],
   "outputs": [],
   "metadata": {}
  }
 ],
 "metadata": {
  "kernelspec": {
   "name": "python3",
   "display_name": "Python 3.8.8 64-bit ('Fintech': conda)"
  },
  "language_info": {
   "codemirror_mode": {
    "name": "ipython",
    "version": 3
   },
   "file_extension": ".py",
   "mimetype": "text/x-python",
   "name": "python",
   "nbconvert_exporter": "python",
   "pygments_lexer": "ipython3",
   "version": "3.8.8"
  },
  "nteract": {
   "version": "0.28.0"
  },
  "interpreter": {
   "hash": "7f0626b54536aa544c2c8dd43ed749957c16be6f7fed118917640ae8dc24df94"
  }
 },
 "nbformat": 4,
 "nbformat_minor": 4
}